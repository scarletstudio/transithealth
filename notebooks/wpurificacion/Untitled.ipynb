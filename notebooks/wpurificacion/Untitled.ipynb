{
 "cells": [
  {
   "cell_type": "code",
   "execution_count": 1,
   "id": "4b621354",
   "metadata": {},
   "outputs": [
    {
     "ename": "ModuleNotFoundError",
     "evalue": "No module named 'api'",
     "output_type": "error",
     "traceback": [
      "\u001b[0;31m---------------------------------------------------------------------------\u001b[0m",
      "\u001b[0;31mModuleNotFoundError\u001b[0m                       Traceback (most recent call last)",
      "\u001b[0;32m<ipython-input-1-f879cd455e26>\u001b[0m in \u001b[0;36m<module>\u001b[0;34m\u001b[0m\n\u001b[0;32m----> 1\u001b[0;31m \u001b[0;32mfrom\u001b[0m \u001b[0mapi\u001b[0m\u001b[0;34m.\u001b[0m\u001b[0mutils\u001b[0m\u001b[0;34m.\u001b[0m\u001b[0mdatabase\u001b[0m \u001b[0;32mimport\u001b[0m \u001b[0mrows_to_dicts\u001b[0m\u001b[0;34m\u001b[0m\u001b[0;34m\u001b[0m\u001b[0m\n\u001b[0m\u001b[1;32m      2\u001b[0m \u001b[0;34m\u001b[0m\u001b[0m\n\u001b[1;32m      3\u001b[0m \u001b[0;34m\u001b[0m\u001b[0m\n\u001b[1;32m      4\u001b[0m \u001b[0;32mclass\u001b[0m \u001b[0mCommunityMetrics\u001b[0m\u001b[0;34m:\u001b[0m\u001b[0;34m\u001b[0m\u001b[0;34m\u001b[0m\u001b[0m\n\u001b[1;32m      5\u001b[0m     \"\"\"\n",
      "\u001b[0;31mModuleNotFoundError\u001b[0m: No module named 'api'"
     ]
    }
   ],
   "source": [
    "from api.utils.database import rows_to_dicts\n",
    "\n",
    "\n",
    "class CommunityMetrics:\n",
    "    \"\"\"\n",
    "    Metrics for community area data.\n",
    "    \"\"\"\n",
    "\n",
    "    def __init__(self, con):\n",
    "        self.con = con\n",
    "\n",
    "    def income(self, year, segment):\n",
    "        \"\"\"\n",
    "        Returns the rounded income value for each community area.\n",
    "        Args:\n",
    "            year (int): period ending year to filter by\n",
    "            segment (str): population segment to filter by\n",
    "        \"\"\"\n",
    "        query = \"\"\"\n",
    "        SELECT\n",
    "            area_number,\n",
    "            CAST(value AS INTEGER) AS value\n",
    "        FROM income\n",
    "        WHERE period_end_year == {year}\n",
    "        AND segment == \"{segment}\"\n",
    "        \"\"\".format(year=year, segment=segment)\n",
    "        cur = self.con.cursor()\n",
    "        cur.execute(query)\n",
    "        rows = rows_to_dicts(cur, cur.fetchall())\n",
    "        return rows"
   ]
  },
  {
   "cell_type": "code",
   "execution_count": null,
   "id": "1e6ddc48",
   "metadata": {},
   "outputs": [],
   "source": []
  }
 ],
 "metadata": {
  "kernelspec": {
   "display_name": "Python 3 (ipykernel)",
   "language": "python",
   "name": "python3"
  },
  "language_info": {
   "codemirror_mode": {
    "name": "ipython",
    "version": 3
   },
   "file_extension": ".py",
   "mimetype": "text/x-python",
   "name": "python",
   "nbconvert_exporter": "python",
   "pygments_lexer": "ipython3",
   "version": "3.7.10"
  }
 },
 "nbformat": 4,
 "nbformat_minor": 5
}
