{
 "cells": [
  {
   "cell_type": "code",
   "execution_count": 1,
   "metadata": {},
   "outputs": [],
   "source": [
    "import os\n",
    "os.chdir(\"../../\")"
   ]
  },
  {
   "cell_type": "code",
   "execution_count": 2,
   "metadata": {},
   "outputs": [],
   "source": [
    "from api.metrics.rent_burdened import RentBurdenedMetrics\n",
    "from api.utils.testing import create_test_db"
   ]
  },
  {
   "cell_type": "markdown",
   "metadata": {},
   "source": [
    "My own stuff below"
   ]
  },
  {
   "cell_type": "code",
   "execution_count": 3,
   "metadata": {},
   "outputs": [
    {
     "data": {
      "text/plain": [
       "[(35, 'all', 52.7029065195125, 3.84632247404482, 2015, 2019, '2015-2019'),\n",
       " (36, 'all', 41.6541886411246, 6.20330138729073, 2015, 2019, '2015-2019'),\n",
       " (37, 'all', 56.2945422971736, 9.28861601213422, 2015, 2019, '2015-2019'),\n",
       " (38, 'all', 51.4589913593531, 3.50474554886712, 2015, 2019, '2015-2019'),\n",
       " (39, 'all', 48.790639029861, 3.83623974396546, 2015, 2019, '2015-2019')]"
      ]
     },
     "execution_count": 3,
     "metadata": {},
     "output_type": "execute_result"
    }
   ],
   "source": [
    "import sqlite3\n",
    "\n",
    "con = sqlite3.connect(\"./pipeline/database.db\")\n",
    "cur = con.cursor()\n",
    "\n",
    "rows = cur.execute(\"\"\"\n",
    "SELECT *\n",
    "FROM rent_burdened_households\n",
    "LIMIT 5\n",
    "\"\"\").fetchall()\n",
    "\n",
    "rows"
   ]
  },
  {
   "cell_type": "code",
   "execution_count": 4,
   "metadata": {},
   "outputs": [],
   "source": [
    "%%capture\n",
    "%load_ext sql\n",
    "%sql sqlite:///pipeline/database.db"
   ]
  },
  {
   "cell_type": "code",
   "execution_count": 5,
   "metadata": {},
   "outputs": [
    {
     "name": "stdout",
     "output_type": "stream",
     "text": [
      " * sqlite:///pipeline/database.db\n",
      "Done.\n"
     ]
    },
    {
     "data": {
      "text/html": [
       "<table>\n",
       "    <tr>\n",
       "        <th>area_number</th>\n",
       "        <th>segment</th>\n",
       "        <th>value</th>\n",
       "        <th>std_error</th>\n",
       "        <th>period_start_year</th>\n",
       "        <th>period_end_year</th>\n",
       "        <th>period</th>\n",
       "    </tr>\n",
       "    <tr>\n",
       "        <td>35</td>\n",
       "        <td>all</td>\n",
       "        <td>52.7029065195125</td>\n",
       "        <td>3.84632247404482</td>\n",
       "        <td>2015</td>\n",
       "        <td>2019</td>\n",
       "        <td>2015-2019</td>\n",
       "    </tr>\n",
       "    <tr>\n",
       "        <td>36</td>\n",
       "        <td>all</td>\n",
       "        <td>41.6541886411246</td>\n",
       "        <td>6.20330138729073</td>\n",
       "        <td>2015</td>\n",
       "        <td>2019</td>\n",
       "        <td>2015-2019</td>\n",
       "    </tr>\n",
       "    <tr>\n",
       "        <td>37</td>\n",
       "        <td>all</td>\n",
       "        <td>56.2945422971736</td>\n",
       "        <td>9.28861601213422</td>\n",
       "        <td>2015</td>\n",
       "        <td>2019</td>\n",
       "        <td>2015-2019</td>\n",
       "    </tr>\n",
       "    <tr>\n",
       "        <td>38</td>\n",
       "        <td>all</td>\n",
       "        <td>51.4589913593531</td>\n",
       "        <td>3.50474554886712</td>\n",
       "        <td>2015</td>\n",
       "        <td>2019</td>\n",
       "        <td>2015-2019</td>\n",
       "    </tr>\n",
       "    <tr>\n",
       "        <td>39</td>\n",
       "        <td>all</td>\n",
       "        <td>48.790639029861</td>\n",
       "        <td>3.83623974396546</td>\n",
       "        <td>2015</td>\n",
       "        <td>2019</td>\n",
       "        <td>2015-2019</td>\n",
       "    </tr>\n",
       "</table>"
      ],
      "text/plain": [
       "[(35, 'all', 52.7029065195125, 3.84632247404482, 2015, 2019, '2015-2019'),\n",
       " (36, 'all', 41.6541886411246, 6.20330138729073, 2015, 2019, '2015-2019'),\n",
       " (37, 'all', 56.2945422971736, 9.28861601213422, 2015, 2019, '2015-2019'),\n",
       " (38, 'all', 51.4589913593531, 3.50474554886712, 2015, 2019, '2015-2019'),\n",
       " (39, 'all', 48.790639029861, 3.83623974396546, 2015, 2019, '2015-2019')]"
      ]
     },
     "execution_count": 5,
     "metadata": {},
     "output_type": "execute_result"
    }
   ],
   "source": [
    "%%sql\n",
    "SELECT *\n",
    "FROM rent_burdened_households\n",
    "LIMIT 5"
   ]
  },
  {
   "cell_type": "code",
   "execution_count": 6,
   "metadata": {},
   "outputs": [],
   "source": [
    "from api.utils.database import rows_to_dicts\n",
    "\n",
    "\n",
    "class RentBurdenedMetrics:\n",
    "    \"\"\"\n",
    "    Metrics for rent burdened households data.\n",
    "    \"\"\"\n",
    "\n",
    "    def __init__(self, con):\n",
    "        self.con = con\n",
    "\n",
    "    def rent_burdened(self, year, segment):\n",
    "        \"\"\"\n",
    "        Returns the percent of households who are rent burdened in the area,\n",
    "        and the area number.\n",
    "        Args:\n",
    "            year (int): period ending year to filter by\n",
    "            segment (str): population segment to filter by\n",
    "        \"\"\"\n",
    "        query = \"\"\"\n",
    "        SELECT\n",
    "            area_number,\n",
    "            value / 100.00 AS value\n",
    "        FROM rent_burdened_households\n",
    "        WHERE period_end_year == {year}\n",
    "        AND segment == \"{segment}\"\n",
    "        \"\"\".format(year=year, segment=segment)\n",
    "        cur = self.con.cursor()\n",
    "        cur.execute(query)\n",
    "        rows = rows_to_dicts(cur, cur.fetchall())\n",
    "        return rows\n",
    "        \n",
    "    def rent_max_burdened(self):\n",
    "        \"\"\"\n",
    "        Returns the highest percentage of rent burdened households in an area,\n",
    "        its area number, and the period.\n",
    "        \"\"\"\n",
    "        query = \"\"\"\n",
    "        SELECT\n",
    "            max(value)/100 AS value,\n",
    "            area_number,\n",
    "            period_end_year\n",
    "        FROM rent_burdened_households\n",
    "        \"\"\"\n",
    "        cur = self.con.cursor()\n",
    "        cur.execute(query)\n",
    "        rows = rows_to_dicts(cur, cur.fetchall())\n",
    "        return rows\n",
    "    \n",
    "    def rent_min_burdened(self):\n",
    "        \"\"\"\n",
    "        Returns the smallest percentage of rent burdened households in an area,\n",
    "        its area number, and the period end year.\n",
    "        \"\"\"\n",
    "        query = \"\"\"\n",
    "        SELECT\n",
    "            min(value)/100 AS value,\n",
    "            area_number,\n",
    "            period_end_year\n",
    "        FROM rent_burdened_households\n",
    "        \"\"\"\n",
    "        cur = self.con.cursor()\n",
    "        cur.execute(query)\n",
    "        rows = rows_to_dicts(cur, cur.fetchall())\n",
    "        return rows\n",
    "    \n",
    "    def rent_average_burden_area(self):\n",
    "        \"\"\"\n",
    "        Returns the average percentage of rent burdened households by area\n",
    "        across all periods.\n",
    "        \"\"\"\n",
    "        query = \"\"\"\n",
    "        SELECT\n",
    "            avg(value)/100 AS \"avg value\",\n",
    "            area_number\n",
    "        FROM rent_burdened_households\n",
    "        GROUP BY area_number\n",
    "        \"\"\"\n",
    "        cur = self.con.cursor()\n",
    "        cur.execute(query)\n",
    "        rows = rows_to_dicts(cur, cur.fetchall())\n",
    "        return rows\n",
    "    \n"
   ]
  },
  {
   "cell_type": "code",
   "execution_count": 17,
   "metadata": {},
   "outputs": [],
   "source": [
    "import sys\n",
    "sys.path.append(\"../\")\n",
    "\n",
    "#from api.metrics.rent_burdened import RentBurdenedMetrics #comment this section if making changes to the RentBurdenedMetrics class\n",
    "from api.utils.testing import create_test_db\n",
    "\n",
    "...\n",
    "\n",
    "def test_RBU():\n",
    "    rent_burdened_households_table = [\n",
    "        {\n",
    "            \"area_number\": 1,\n",
    "            \"period_end_year\": 2019,\n",
    "            \"segment\": \"all\",\n",
    "            \"value\": 52.7029065195125\n",
    "        },\n",
    "        {\n",
    "            \"area_number\": 1,\n",
    "            \"period_end_year\": 2018,\n",
    "            \"segment\": \"all\",\n",
    "            \"value\": 41.6541886411246\n",
    "        },\n",
    "        {\n",
    "            \"area_number\": 2,\n",
    "            \"period_end_year\": 2019,\n",
    "            \"segment\": \"all\",\n",
    "            \"value\": 56.2945422971736\n",
    "        },\n",
    "        {\n",
    "            \"area_number\": 3,\n",
    "            \"period_end_year\": 2014,\n",
    "            \"segment\": \"all\",\n",
    "            \"value\": 51.4589913593531\n",
    "        },\n",
    "        {\n",
    "            \"area_number\": 3,\n",
    "            \"period_end_year\": 2018,\n",
    "            \"segment\": \"all\",\n",
    "            \"value\": 48.790639029861\n",
    "        },\n",
    "        {\n",
    "            \"area_number\": 3,\n",
    "            \"period_end_year\": 2017,\n",
    "            \"segment\": \"all\",\n",
    "            \"value\": 33.9090007521057\n",
    "        }\n",
    "    ]\n",
    "    con, cur = create_test_db(\n",
    "        scripts=[\n",
    "            \"./pipeline/load/rent_burdened_households.sql\"\n",
    "        ],\n",
    "        tables={\n",
    "            \"rent_burdened_households\": rent_burdened_households_table\n",
    "        }\n",
    "    )\n",
    "\n",
    "    metric = RentBurdenedMetrics(con)\n",
    "\n",
    "    assert metric.rent_burdened(year=2019, segment=\"all\") == [\n",
    "        { \"area_number\": 1, \"value\": 0.527029065195125 },\n",
    "        { \"area_number\": 2, \"value\": 0.562945422971736 }\n",
    "    ], \"Should have two results for 2019.\"\n",
    "\n",
    "    assert metric.rent_max_burdened() == [\n",
    "        { 'value': 0.562945422971736, 'area_number': 2, 'period_end_year': 2019}\n",
    "    ], \"Double check the max result and period end year.\"\n",
    "    \n",
    "    assert metric.rent_min_burdened() == [\n",
    "        { \"area_number\": 3, \"value\": 0.339090007521057, \"period_end_year\": 2017}\n",
    "    ], \"Double check the min result and period end year.\"\n",
    "\n",
    "    assert metric.rent_average_burden_area() == [\n",
    "        {'avg value': 0.47178547580318553, 'area_number': 1}, \n",
    "        {'avg value': 0.562945422971736, 'area_number': 2}, \n",
    "        {'avg value': 0.4471954371377327, 'area_number': 3}\n",
    "    ], \"Check if the results are correct\"\n",
    "    \n",
    "    print(metric.rent_burdened(year=2018, segment=\"all\"))"
   ]
  },
  {
   "cell_type": "code",
   "execution_count": 18,
   "metadata": {},
   "outputs": [
    {
     "name": "stdout",
     "output_type": "stream",
     "text": [
      "None\n",
      "[{'area_number': 1, 'value': 0.416541886411246}, {'area_number': 3, 'value': 0.48790639029861}]\n"
     ]
    }
   ],
   "source": [
    "test_RBU()"
   ]
  },
  {
   "cell_type": "code",
   "execution_count": 12,
   "metadata": {},
   "outputs": [
    {
     "ename": "NameError",
     "evalue": "name 'metric' is not defined",
     "output_type": "error",
     "traceback": [
      "\u001b[0;31m---------------------------------------------------------------------------\u001b[0m",
      "\u001b[0;31mNameError\u001b[0m                                 Traceback (most recent call last)",
      "\u001b[0;32m<ipython-input-12-288e17ad2e21>\u001b[0m in \u001b[0;36m<module>\u001b[0;34m\u001b[0m\n\u001b[0;32m----> 1\u001b[0;31m \u001b[0mmetric\u001b[0m\u001b[0;34m.\u001b[0m\u001b[0mrent_burdened\u001b[0m\u001b[0;34m(\u001b[0m\u001b[0myear\u001b[0m\u001b[0;34m=\u001b[0m\u001b[0;36m2015\u001b[0m\u001b[0;34m,\u001b[0m \u001b[0msegment\u001b[0m\u001b[0;34m=\u001b[0m\u001b[0;34m\"all\"\u001b[0m\u001b[0;34m)\u001b[0m\u001b[0;34m\u001b[0m\u001b[0;34m\u001b[0m\u001b[0m\n\u001b[0m",
      "\u001b[0;31mNameError\u001b[0m: name 'metric' is not defined"
     ]
    }
   ],
   "source": [
    "metric.rent_burdened(year=2015, segment=\"all\")"
   ]
  }
 ],
 "metadata": {
  "kernelspec": {
   "display_name": "Python 3 (ipykernel)",
   "language": "python",
   "name": "python3"
  },
  "language_info": {
   "codemirror_mode": {
    "name": "ipython",
    "version": 3
   },
   "file_extension": ".py",
   "mimetype": "text/x-python",
   "name": "python",
   "nbconvert_exporter": "python",
   "pygments_lexer": "ipython3",
   "version": "3.7.10"
  },
  "varInspector": {
   "cols": {
    "lenName": 16,
    "lenType": 16,
    "lenVar": 40
   },
   "kernels_config": {
    "python": {
     "delete_cmd_postfix": "",
     "delete_cmd_prefix": "del ",
     "library": "var_list.py",
     "varRefreshCmd": "print(var_dic_list())"
    },
    "r": {
     "delete_cmd_postfix": ") ",
     "delete_cmd_prefix": "rm(",
     "library": "var_list.r",
     "varRefreshCmd": "cat(var_dic_list()) "
    }
   },
   "types_to_exclude": [
    "module",
    "function",
    "builtin_function_or_method",
    "instance",
    "_Feature"
   ],
   "window_display": false
  }
 },
 "nbformat": 4,
 "nbformat_minor": 2
}
