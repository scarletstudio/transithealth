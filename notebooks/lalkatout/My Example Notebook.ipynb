{
 "cells": [
  {
   "cell_type": "markdown",
   "metadata": {},
   "source": [
    "# Example Notebook\n",
    "\n",
    "Jupyter notebooks are a great tool for data analysis and prototyping. Each engineer will have their own folder under `notebooks/{username}/` to store Jupyter notebooks.\n",
    "\n",
    "This notebook shows some examples.\n",
    "\n",
    "Every notebook will start with this code cell. It moves up two directories from where the notebook is, so that we can execute code from the root directory, `transithealth/`. This allows us to import code from across project as well as read/write files using paths relative to the root directory."
   ]
  },
  {
   "cell_type": "code",
   "execution_count": 1,
   "metadata": {},
   "outputs": [],
   "source": [
    "import os\n",
    "os.chdir(\"../../\")"
   ]
  },
  {
   "cell_type": "markdown",
   "metadata": {},
   "source": [
    "## Importing Code and Accessing Files\n",
    "\n",
    "Now we can import code from the backend API and run it!"
   ]
  },
  {
   "cell_type": "code",
   "execution_count": 2,
   "metadata": {},
   "outputs": [],
   "source": [
    "from api.metrics.rideshare import RideshareMetrics\n",
    "from api.utils.testing import create_test_db"
   ]
  },
  {
   "cell_type": "markdown",
   "metadata": {},
   "source": [
    "We can also refer to scripts from the offline pipeline using their relative paths from the root."
   ]
  },
  {
   "cell_type": "code",
   "execution_count": 3,
   "metadata": {},
   "outputs": [
    {
     "name": "stdout",
     "output_type": "stream",
     "text": [
      "Actual:   {'max_trips': 14}\n",
      "Expected: {'max_trips': 14}\n"
     ]
    }
   ],
   "source": [
    "con, cur = create_test_db(\n",
    "    scripts=[\n",
    "        \"./pipeline/load/rideshare.sql\"\n",
    "    ],\n",
    "    tables={\n",
    "        \"rideshare\": [\n",
    "            { \"n_trips\": 7 },\n",
    "            { \"n_trips\": 14 },\n",
    "            { \"n_trips\": 3 }\n",
    "        ]\n",
    "    }\n",
    ")\n",
    "\n",
    "metric = RideshareMetrics(con)\n",
    "actual = metric.get_max_trips()\n",
    "\n",
    "expected = { \"max_trips\": 14 }\n",
    "\n",
    "assert actual == expected\n",
    "\n",
    "print(f\"Actual:   {actual}\")\n",
    "print(f\"Expected: {expected}\")"
   ]
  },
  {
   "cell_type": "markdown",
   "metadata": {},
   "source": [
    "## Writing SQL\n",
    "\n",
    "There are two ways to write SQL in a Jupyter notebooks:\n",
    "\n",
    "1. With the `sqlite3` module built into Python.\n",
    "2. With the SQL extension for Jupyter notebooks.\n",
    "\n",
    "Here is an example using Python. The default fetched response does not include the columns, so we have a method in `api.utils.database` to help. We can also use Pandas to load the result into a DataFrame."
   ]
  },
  {
   "cell_type": "code",
   "execution_count": 4,
   "metadata": {},
   "outputs": [
    {
     "data": {
      "text/plain": [
       "[('2018-11-01', 1, 1, 500, '2018-44'),\n",
       " ('2018-11-01', 50, 43, 19, '2018-44'),\n",
       " ('2018-11-01', 50, 44, 17, '2018-44'),\n",
       " ('2018-11-01', 50, 46, 4, '2018-44'),\n",
       " ('2018-11-01', 50, 47, 6, '2018-44')]"
      ]
     },
     "execution_count": 4,
     "metadata": {},
     "output_type": "execute_result"
    }
   ],
   "source": [
    "import sqlite3\n",
    "\n",
    "con = sqlite3.connect(\"./pipeline/database.db\")\n",
    "cur = con.cursor()\n",
    "\n",
    "rows = cur.execute(\"\"\"\n",
    "SELECT *\n",
    "FROM rideshare\n",
    "LIMIT 5\n",
    "\"\"\").fetchall()\n",
    "\n",
    "rows"
   ]
  },
  {
   "cell_type": "code",
   "execution_count": 5,
   "metadata": {},
   "outputs": [
    {
     "data": {
      "text/html": [
       "<div>\n",
       "<style scoped>\n",
       "    .dataframe tbody tr th:only-of-type {\n",
       "        vertical-align: middle;\n",
       "    }\n",
       "\n",
       "    .dataframe tbody tr th {\n",
       "        vertical-align: top;\n",
       "    }\n",
       "\n",
       "    .dataframe thead th {\n",
       "        text-align: right;\n",
       "    }\n",
       "</style>\n",
       "<table border=\"1\" class=\"dataframe\">\n",
       "  <thead>\n",
       "    <tr style=\"text-align: right;\">\n",
       "      <th></th>\n",
       "      <th>dropoff_community_area</th>\n",
       "      <th>n_trips</th>\n",
       "      <th>pickup_community_area</th>\n",
       "      <th>week</th>\n",
       "      <th>ymd</th>\n",
       "    </tr>\n",
       "  </thead>\n",
       "  <tbody>\n",
       "    <tr>\n",
       "      <th>0</th>\n",
       "      <td>1</td>\n",
       "      <td>500</td>\n",
       "      <td>1</td>\n",
       "      <td>2018-44</td>\n",
       "      <td>2018-11-01</td>\n",
       "    </tr>\n",
       "    <tr>\n",
       "      <th>1</th>\n",
       "      <td>43</td>\n",
       "      <td>19</td>\n",
       "      <td>50</td>\n",
       "      <td>2018-44</td>\n",
       "      <td>2018-11-01</td>\n",
       "    </tr>\n",
       "    <tr>\n",
       "      <th>2</th>\n",
       "      <td>44</td>\n",
       "      <td>17</td>\n",
       "      <td>50</td>\n",
       "      <td>2018-44</td>\n",
       "      <td>2018-11-01</td>\n",
       "    </tr>\n",
       "    <tr>\n",
       "      <th>3</th>\n",
       "      <td>46</td>\n",
       "      <td>4</td>\n",
       "      <td>50</td>\n",
       "      <td>2018-44</td>\n",
       "      <td>2018-11-01</td>\n",
       "    </tr>\n",
       "    <tr>\n",
       "      <th>4</th>\n",
       "      <td>47</td>\n",
       "      <td>6</td>\n",
       "      <td>50</td>\n",
       "      <td>2018-44</td>\n",
       "      <td>2018-11-01</td>\n",
       "    </tr>\n",
       "  </tbody>\n",
       "</table>\n",
       "</div>"
      ],
      "text/plain": [
       "   dropoff_community_area  n_trips  pickup_community_area     week         ymd\n",
       "0                       1      500                      1  2018-44  2018-11-01\n",
       "1                      43       19                     50  2018-44  2018-11-01\n",
       "2                      44       17                     50  2018-44  2018-11-01\n",
       "3                      46        4                     50  2018-44  2018-11-01\n",
       "4                      47        6                     50  2018-44  2018-11-01"
      ]
     },
     "execution_count": 5,
     "metadata": {},
     "output_type": "execute_result"
    }
   ],
   "source": [
    "import pandas as pd\n",
    "from api.utils.database import rows_to_dicts\n",
    "\n",
    "pd.DataFrame(rows_to_dicts(cur, rows))"
   ]
  },
  {
   "cell_type": "markdown",
   "metadata": {},
   "source": [
    "Jupyter also supports notebook extensions. This extension allows us to declare a cell as a SQL cell with `%%sql` on the first line of the cell, write queries directly in the cell body, and then view the result as a table."
   ]
  },
  {
   "cell_type": "code",
   "execution_count": 6,
   "metadata": {},
   "outputs": [],
   "source": [
    "%%capture\n",
    "%load_ext sql\n",
    "%sql sqlite:///pipeline/database.db"
   ]
  },
  {
   "cell_type": "code",
   "execution_count": 7,
   "metadata": {},
   "outputs": [
    {
     "name": "stdout",
     "output_type": "stream",
     "text": [
      " * sqlite:///pipeline/database.db\n",
      "Done.\n"
     ]
    },
    {
     "data": {
      "text/html": [
       "<table>\n",
       "    <tr>\n",
       "        <th>ymd</th>\n",
       "        <th>pickup_community_area</th>\n",
       "        <th>dropoff_community_area</th>\n",
       "        <th>n_trips</th>\n",
       "        <th>week</th>\n",
       "    </tr>\n",
       "    <tr>\n",
       "        <td>2018-11-01</td>\n",
       "        <td>1</td>\n",
       "        <td>1</td>\n",
       "        <td>500</td>\n",
       "        <td>2018-44</td>\n",
       "    </tr>\n",
       "    <tr>\n",
       "        <td>2018-11-01</td>\n",
       "        <td>50</td>\n",
       "        <td>43</td>\n",
       "        <td>19</td>\n",
       "        <td>2018-44</td>\n",
       "    </tr>\n",
       "    <tr>\n",
       "        <td>2018-11-01</td>\n",
       "        <td>50</td>\n",
       "        <td>44</td>\n",
       "        <td>17</td>\n",
       "        <td>2018-44</td>\n",
       "    </tr>\n",
       "    <tr>\n",
       "        <td>2018-11-01</td>\n",
       "        <td>50</td>\n",
       "        <td>46</td>\n",
       "        <td>4</td>\n",
       "        <td>2018-44</td>\n",
       "    </tr>\n",
       "    <tr>\n",
       "        <td>2018-11-01</td>\n",
       "        <td>50</td>\n",
       "        <td>47</td>\n",
       "        <td>6</td>\n",
       "        <td>2018-44</td>\n",
       "    </tr>\n",
       "</table>"
      ],
      "text/plain": [
       "[('2018-11-01', 1, 1, 500, '2018-44'),\n",
       " ('2018-11-01', 50, 43, 19, '2018-44'),\n",
       " ('2018-11-01', 50, 44, 17, '2018-44'),\n",
       " ('2018-11-01', 50, 46, 4, '2018-44'),\n",
       " ('2018-11-01', 50, 47, 6, '2018-44')]"
      ]
     },
     "execution_count": 7,
     "metadata": {},
     "output_type": "execute_result"
    }
   ],
   "source": [
    "%%sql\n",
    "SELECT *\n",
    "FROM rideshare\n",
    "LIMIT 5"
   ]
  },
  {
   "cell_type": "markdown",
   "metadata": {},
   "source": [
    "## Querying a Socrata Data Portal\n",
    "\n",
    "Socrata SQL (SoQL) is a special dialect of SQL that we can use to access datasets from the City of Chicago data portal, as well as other data portals hosted on Socrata.\n",
    "\n",
    "Below is an example code cell, which uses the `request` module to send a query and get the response as well as Pandas to display the result.\n",
    "\n",
    "It can take a while to get a response, because you are sending a request to a remote server that will run your SoQL query against the entire dataset. That is why we write scripts in our offline pipeline to aggregate and download data before applying transformations locally."
   ]
  },
  {
   "cell_type": "code",
   "execution_count": 30,
   "metadata": {},
   "outputs": [
    {
     "data": {
      "text/html": [
       "<div>\n",
       "<style scoped>\n",
       "    .dataframe tbody tr th:only-of-type {\n",
       "        vertical-align: middle;\n",
       "    }\n",
       "\n",
       "    .dataframe tbody tr th {\n",
       "        vertical-align: top;\n",
       "    }\n",
       "\n",
       "    .dataframe thead th {\n",
       "        text-align: right;\n",
       "    }\n",
       "</style>\n",
       "<table border=\"1\" class=\"dataframe\">\n",
       "  <thead>\n",
       "    <tr style=\"text-align: right;\">\n",
       "      <th></th>\n",
       "      <th>ymd</th>\n",
       "      <th>trip_id</th>\n",
       "      <th>taxi_id</th>\n",
       "      <th>trip_miles</th>\n",
       "      <th>trip_minutes</th>\n",
       "      <th>pickup_community_area</th>\n",
       "      <th>dropoff_community_area</th>\n",
       "      <th>payment_type</th>\n",
       "    </tr>\n",
       "  </thead>\n",
       "  <tbody>\n",
       "    <tr>\n",
       "      <th>0</th>\n",
       "      <td>2017-01-19T00:00:00.000</td>\n",
       "      <td>88c169f7b6d3068f89207127fcfd2025378f598d</td>\n",
       "      <td>e394089d397e0007d9a4154fa7f6936aba7bd6052e892e...</td>\n",
       "      <td>3.6</td>\n",
       "      <td>15.8166666666666667</td>\n",
       "      <td>6</td>\n",
       "      <td>8</td>\n",
       "      <td>Cash</td>\n",
       "    </tr>\n",
       "    <tr>\n",
       "      <th>1</th>\n",
       "      <td>2017-01-18T00:00:00.000</td>\n",
       "      <td>6ff0e41fbbb77e38c270ce422f47590fff4c9792</td>\n",
       "      <td>5875da2f8b2c80730590e971a29f16061bac24b92e13a5...</td>\n",
       "      <td>1.1</td>\n",
       "      <td>7.5166666666666667</td>\n",
       "      <td>28</td>\n",
       "      <td>28</td>\n",
       "      <td>Cash</td>\n",
       "    </tr>\n",
       "    <tr>\n",
       "      <th>2</th>\n",
       "      <td>2017-01-15T00:00:00.000</td>\n",
       "      <td>147fecfb4018bdacc16a7d4ac6c4c28a9faad68d</td>\n",
       "      <td>34a67a4a44a0c07c24568bbdee112b8e7877b6b49664a7...</td>\n",
       "      <td>2.2</td>\n",
       "      <td>10.0500000000000000</td>\n",
       "      <td>3</td>\n",
       "      <td>4</td>\n",
       "      <td>Cash</td>\n",
       "    </tr>\n",
       "    <tr>\n",
       "      <th>3</th>\n",
       "      <td>2017-01-16T00:00:00.000</td>\n",
       "      <td>9477cc4818ad07c446ebc3b61930518901ba3088</td>\n",
       "      <td>07f6fa4e48d169ab189829ad0db1693534a26518982d79...</td>\n",
       "      <td>21.8</td>\n",
       "      <td>65.3666666666666667</td>\n",
       "      <td>56</td>\n",
       "      <td>1</td>\n",
       "      <td>Credit Card</td>\n",
       "    </tr>\n",
       "    <tr>\n",
       "      <th>4</th>\n",
       "      <td>2017-01-16T00:00:00.000</td>\n",
       "      <td>c37055689596fd665c9291d532c3e29d9102775b</td>\n",
       "      <td>3fa0e5b3d416e164aba1cf34cf4b89a2a72e62a7b9ac12...</td>\n",
       "      <td>17.8</td>\n",
       "      <td>54.1166666666666667</td>\n",
       "      <td>32</td>\n",
       "      <td>76</td>\n",
       "      <td>Cash</td>\n",
       "    </tr>\n",
       "    <tr>\n",
       "      <th>...</th>\n",
       "      <td>...</td>\n",
       "      <td>...</td>\n",
       "      <td>...</td>\n",
       "      <td>...</td>\n",
       "      <td>...</td>\n",
       "      <td>...</td>\n",
       "      <td>...</td>\n",
       "      <td>...</td>\n",
       "    </tr>\n",
       "    <tr>\n",
       "      <th>95</th>\n",
       "      <td>2017-01-18T00:00:00.000</td>\n",
       "      <td>0c88b9e82ad3f336101b68702e82998af5b1567f</td>\n",
       "      <td>3e411cc3ddbde7425617bdf806419ecea09ca0d9b72e0f...</td>\n",
       "      <td>7.1</td>\n",
       "      <td>17.0500000000000000</td>\n",
       "      <td>4</td>\n",
       "      <td>28</td>\n",
       "      <td>Cash</td>\n",
       "    </tr>\n",
       "    <tr>\n",
       "      <th>96</th>\n",
       "      <td>2017-01-18T00:00:00.000</td>\n",
       "      <td>477022c180f80106f1bab746d87273f0a40fbf67</td>\n",
       "      <td>19746bb16bdf4cfc8816650883cc6b6f8a7401ceb73a61...</td>\n",
       "      <td>2.1</td>\n",
       "      <td>10.9500000000000000</td>\n",
       "      <td>28</td>\n",
       "      <td>8</td>\n",
       "      <td>Cash</td>\n",
       "    </tr>\n",
       "    <tr>\n",
       "      <th>97</th>\n",
       "      <td>2017-01-18T00:00:00.000</td>\n",
       "      <td>47db882b5751350bb6598c605067d70b322b83bd</td>\n",
       "      <td>6742af1fa219cb510a0f217f3e4f2457a065503294bc78...</td>\n",
       "      <td>17.5</td>\n",
       "      <td>50.4333333333333333</td>\n",
       "      <td>28</td>\n",
       "      <td>76</td>\n",
       "      <td>Credit Card</td>\n",
       "    </tr>\n",
       "    <tr>\n",
       "      <th>98</th>\n",
       "      <td>2017-01-21T00:00:00.000</td>\n",
       "      <td>8a844516955a4aea01fe96e71e494ba7fd365a38</td>\n",
       "      <td>6898e40854937399e0ef25dad63740d21b205934390907...</td>\n",
       "      <td>1.6</td>\n",
       "      <td>11.5500000000000000</td>\n",
       "      <td>8</td>\n",
       "      <td>8</td>\n",
       "      <td>Cash</td>\n",
       "    </tr>\n",
       "    <tr>\n",
       "      <th>99</th>\n",
       "      <td>2017-01-20T00:00:00.000</td>\n",
       "      <td>dee422403c56d5965742df35778a1e567281e70b</td>\n",
       "      <td>b0f6b01a82d012250762da15db11d1c2b7c7ebecc660b5...</td>\n",
       "      <td>1.1</td>\n",
       "      <td>6.2666666666666667</td>\n",
       "      <td>32</td>\n",
       "      <td>28</td>\n",
       "      <td>Credit Card</td>\n",
       "    </tr>\n",
       "  </tbody>\n",
       "</table>\n",
       "<p>100 rows × 8 columns</p>\n",
       "</div>"
      ],
      "text/plain": [
       "                        ymd                                   trip_id  \\\n",
       "0   2017-01-19T00:00:00.000  88c169f7b6d3068f89207127fcfd2025378f598d   \n",
       "1   2017-01-18T00:00:00.000  6ff0e41fbbb77e38c270ce422f47590fff4c9792   \n",
       "2   2017-01-15T00:00:00.000  147fecfb4018bdacc16a7d4ac6c4c28a9faad68d   \n",
       "3   2017-01-16T00:00:00.000  9477cc4818ad07c446ebc3b61930518901ba3088   \n",
       "4   2017-01-16T00:00:00.000  c37055689596fd665c9291d532c3e29d9102775b   \n",
       "..                      ...                                       ...   \n",
       "95  2017-01-18T00:00:00.000  0c88b9e82ad3f336101b68702e82998af5b1567f   \n",
       "96  2017-01-18T00:00:00.000  477022c180f80106f1bab746d87273f0a40fbf67   \n",
       "97  2017-01-18T00:00:00.000  47db882b5751350bb6598c605067d70b322b83bd   \n",
       "98  2017-01-21T00:00:00.000  8a844516955a4aea01fe96e71e494ba7fd365a38   \n",
       "99  2017-01-20T00:00:00.000  dee422403c56d5965742df35778a1e567281e70b   \n",
       "\n",
       "                                              taxi_id trip_miles  \\\n",
       "0   e394089d397e0007d9a4154fa7f6936aba7bd6052e892e...        3.6   \n",
       "1   5875da2f8b2c80730590e971a29f16061bac24b92e13a5...        1.1   \n",
       "2   34a67a4a44a0c07c24568bbdee112b8e7877b6b49664a7...        2.2   \n",
       "3   07f6fa4e48d169ab189829ad0db1693534a26518982d79...       21.8   \n",
       "4   3fa0e5b3d416e164aba1cf34cf4b89a2a72e62a7b9ac12...       17.8   \n",
       "..                                                ...        ...   \n",
       "95  3e411cc3ddbde7425617bdf806419ecea09ca0d9b72e0f...        7.1   \n",
       "96  19746bb16bdf4cfc8816650883cc6b6f8a7401ceb73a61...        2.1   \n",
       "97  6742af1fa219cb510a0f217f3e4f2457a065503294bc78...       17.5   \n",
       "98  6898e40854937399e0ef25dad63740d21b205934390907...        1.6   \n",
       "99  b0f6b01a82d012250762da15db11d1c2b7c7ebecc660b5...        1.1   \n",
       "\n",
       "           trip_minutes pickup_community_area dropoff_community_area  \\\n",
       "0   15.8166666666666667                     6                      8   \n",
       "1    7.5166666666666667                    28                     28   \n",
       "2   10.0500000000000000                     3                      4   \n",
       "3   65.3666666666666667                    56                      1   \n",
       "4   54.1166666666666667                    32                     76   \n",
       "..                  ...                   ...                    ...   \n",
       "95  17.0500000000000000                     4                     28   \n",
       "96  10.9500000000000000                    28                      8   \n",
       "97  50.4333333333333333                    28                     76   \n",
       "98  11.5500000000000000                     8                      8   \n",
       "99   6.2666666666666667                    32                     28   \n",
       "\n",
       "   payment_type  \n",
       "0          Cash  \n",
       "1          Cash  \n",
       "2          Cash  \n",
       "3   Credit Card  \n",
       "4          Cash  \n",
       "..          ...  \n",
       "95         Cash  \n",
       "96         Cash  \n",
       "97  Credit Card  \n",
       "98         Cash  \n",
       "99  Credit Card  \n",
       "\n",
       "[100 rows x 8 columns]"
      ]
     },
     "execution_count": 30,
     "metadata": {},
     "output_type": "execute_result"
    }
   ],
   "source": [
    "import pandas as pd\n",
    "import requests\n",
    "\n",
    "dataset_json_url = \"https://data.cityofchicago.org/resource/wrvz-psew.json\"\n",
    "query = \"\"\"\n",
    "SELECT date_trunc_ymd(trip_start_timestamp) as ymd, \n",
    "    trip_id, \n",
    "    taxi_id, \n",
    "    trip_miles, \n",
    "    trip_seconds/60 as trip_minutes,\n",
    "    pickup_community_area,\n",
    "    dropoff_community_area,\n",
    "    payment_type\n",
    "    \n",
    "WHERE trip_end_timestamp <= \"2021-05-01\"\n",
    "\n",
    "\n",
    "LIMIT 100\n",
    "\"\"\"\n",
    "r = requests.get(dataset_json_url, params={\"$query\": query})\n",
    "pd.DataFrame(r.json())"
   ]
  },
  {
   "cell_type": "code",
   "execution_count": null,
   "metadata": {},
   "outputs": [],
   "source": [
    "data/extracted/taxi_trips.csv:\n",
    "    python3 extract/from_data_portal.py \\\n",
    "        --json_url=\"https://data.cityofchicago.org/resource/wrvz-psew.json\" \\\n",
    "        --soql_file=\"extract/taxi_trips.sql\" \\\n",
    "        --output_file=\"data/extracted/taxi_trips.csv\""
   ]
  },
  {
   "cell_type": "code",
   "execution_count": null,
   "metadata": {},
   "outputs": [],
   "source": []
  }
 ],
 "metadata": {
  "kernelspec": {
   "display_name": "Python 3",
   "language": "python",
   "name": "python3"
  },
  "language_info": {
   "codemirror_mode": {
    "name": "ipython",
    "version": 3
   },
   "file_extension": ".py",
   "mimetype": "text/x-python",
   "name": "python",
   "nbconvert_exporter": "python",
   "pygments_lexer": "ipython3",
   "version": "3.7.10"
  },
  "varInspector": {
   "cols": {
    "lenName": 16,
    "lenType": 16,
    "lenVar": 40
   },
   "kernels_config": {
    "python": {
     "delete_cmd_postfix": "",
     "delete_cmd_prefix": "del ",
     "library": "var_list.py",
     "varRefreshCmd": "print(var_dic_list())"
    },
    "r": {
     "delete_cmd_postfix": ") ",
     "delete_cmd_prefix": "rm(",
     "library": "var_list.r",
     "varRefreshCmd": "cat(var_dic_list()) "
    }
   },
   "types_to_exclude": [
    "module",
    "function",
    "builtin_function_or_method",
    "instance",
    "_Feature"
   ],
   "window_display": false
  }
 },
 "nbformat": 4,
 "nbformat_minor": 2
}
