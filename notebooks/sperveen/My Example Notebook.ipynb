{
 "cells": [
  {
   "cell_type": "markdown",
   "metadata": {},
   "source": [
    "# Example Notebook\n",
    "\n",
    "Jupyter notebooks are a great tool for data analysis and prototyping. Each engineer will have their own folder under `notebooks/{username}/` to store Jupyter notebooks.\n",
    "\n",
    "This notebook shows some examples.\n",
    "\n",
    "Every notebook will start with this code cell. It moves up two directories from where the notebook is, so that we can execute code from the root directory, `transithealth/`. This allows us to import code from across project as well as read/write files using paths relative to the root directory."
   ]
  },
  {
   "cell_type": "code",
   "execution_count": 4,
   "metadata": {},
   "outputs": [],
   "source": [
    "import os\n",
    "os.chdir(\"../../\")"
   ]
  },
  {
   "cell_type": "markdown",
   "metadata": {},
   "source": [
    "## Importing Code and Accessing Files\n",
    "\n",
    "Now we can import code from the backend API and run it!"
   ]
  },
  {
   "cell_type": "code",
   "execution_count": 5,
   "metadata": {},
   "outputs": [],
   "source": [
    "from api.metrics.rideshare import RideshareMetrics\n",
    "from api.utils.testing import create_test_db"
   ]
  },
  {
   "cell_type": "markdown",
   "metadata": {},
   "source": [
    "We can also refer to scripts from the offline pipeline using their relative paths from the root."
   ]
  },
  {
   "cell_type": "code",
   "execution_count": 6,
   "metadata": {},
   "outputs": [
    {
     "name": "stdout",
     "output_type": "stream",
     "text": [
      "None\n",
      "Actual:   {'max_trips': 14}\n",
      "Expected: {'max_trips': 14}\n"
     ]
    }
   ],
   "source": [
    "con, cur = create_test_db(\n",
    "    scripts=[\n",
    "        \"./pipeline/load/rideshare.sql\"\n",
    "    ],\n",
    "    tables={\n",
    "        \"rideshare\": [\n",
    "            { \"n_trips\": 7 },\n",
    "            { \"n_trips\": 14 },\n",
    "            { \"n_trips\": 3 }\n",
    "        ]\n",
    "    }\n",
    ")\n",
    "\n",
    "metric = RideshareMetrics(con)\n",
    "actual = metric.get_max_trips()\n",
    "\n",
    "expected = { \"max_trips\": 14 }\n",
    "\n",
    "assert actual == expected\n",
    "\n",
    "print(f\"Actual:   {actual}\")\n",
    "print(f\"Expected: {expected}\")"
   ]
  },
  {
   "cell_type": "markdown",
   "metadata": {},
   "source": [
    "## Writing SQL\n",
    "\n",
    "There are two ways to write SQL in a Jupyter notebooks:\n",
    "\n",
    "1. With the `sqlite3` module built into Python.\n",
    "2. With the SQL extension for Jupyter notebooks.\n",
    "\n",
    "Here is an example using Python. The default fetched response does not include the columns, so we have a method in `api.utils.database` to help. We can also use Pandas to load the result into a DataFrame."
   ]
  },
  {
   "cell_type": "code",
   "execution_count": 11,
   "metadata": {},
   "outputs": [
    {
     "data": {
      "text/plain": [
       "[(2020,), (2019,), (2018,), (2017,), (2016,)]"
      ]
     },
     "execution_count": 11,
     "metadata": {},
     "output_type": "execute_result"
    }
   ],
   "source": [
    "import sqlite3\n",
    "\n",
    "con = sqlite3.connect(\"./pipeline/database.db\")\n",
    "cur = con.cursor()\n",
    "\n",
    "rows = cur.execute(\"\"\"\n",
    "SELECT distinct period\n",
    "FROM traffic_intensity\n",
    "\n",
    "\"\"\").fetchall()\n",
    "\n",
    "rows"
   ]
  },
  {
   "cell_type": "code",
   "execution_count": 12,
   "metadata": {
    "scrolled": true
   },
   "outputs": [
    {
     "data": {
      "text/html": [
       "<div>\n",
       "<style scoped>\n",
       "    .dataframe tbody tr th:only-of-type {\n",
       "        vertical-align: middle;\n",
       "    }\n",
       "\n",
       "    .dataframe tbody tr th {\n",
       "        vertical-align: top;\n",
       "    }\n",
       "\n",
       "    .dataframe thead th {\n",
       "        text-align: right;\n",
       "    }\n",
       "</style>\n",
       "<table border=\"1\" class=\"dataframe\">\n",
       "  <thead>\n",
       "    <tr style=\"text-align: right;\">\n",
       "      <th></th>\n",
       "      <th>period</th>\n",
       "    </tr>\n",
       "  </thead>\n",
       "  <tbody>\n",
       "    <tr>\n",
       "      <th>0</th>\n",
       "      <td>2020</td>\n",
       "    </tr>\n",
       "    <tr>\n",
       "      <th>1</th>\n",
       "      <td>2019</td>\n",
       "    </tr>\n",
       "    <tr>\n",
       "      <th>2</th>\n",
       "      <td>2018</td>\n",
       "    </tr>\n",
       "    <tr>\n",
       "      <th>3</th>\n",
       "      <td>2017</td>\n",
       "    </tr>\n",
       "    <tr>\n",
       "      <th>4</th>\n",
       "      <td>2016</td>\n",
       "    </tr>\n",
       "  </tbody>\n",
       "</table>\n",
       "</div>"
      ],
      "text/plain": [
       "   period\n",
       "0    2020\n",
       "1    2019\n",
       "2    2018\n",
       "3    2017\n",
       "4    2016"
      ]
     },
     "execution_count": 12,
     "metadata": {},
     "output_type": "execute_result"
    }
   ],
   "source": [
    "import pandas as pd\n",
    "from api.utils.database import rows_to_dicts\n",
    "\n",
    "pd.DataFrame(rows_to_dicts(cur, rows))"
   ]
  },
  {
   "cell_type": "markdown",
   "metadata": {},
   "source": [
    "Jupyter also supports notebook extensions. This extension allows us to declare a cell as a SQL cell with `%%sql` on the first line of the cell, write queries directly in the cell body, and then view the result as a table."
   ]
  },
  {
   "cell_type": "code",
   "execution_count": 13,
   "metadata": {},
   "outputs": [],
   "source": [
    "%%capture\n",
    "%load_ext sql\n",
    "%sql sqlite:///pipeline/database.db"
   ]
  },
  {
   "cell_type": "code",
   "execution_count": 14,
   "metadata": {},
   "outputs": [
    {
     "name": "stdout",
     "output_type": "stream",
     "text": [
      " * sqlite:///pipeline/database.db\n",
      "Done.\n"
     ]
    },
    {
     "data": {
      "text/html": [
       "<table>\n",
       "    <tr>\n",
       "        <th>week</th>\n",
       "        <th>pickup_community_area</th>\n",
       "        <th>dropoff_community_area</th>\n",
       "        <th>n_trips</th>\n",
       "        <th>n_trips_pooled_authorized</th>\n",
       "        <th>n_trips_pooled</th>\n",
       "        <th>avg_cost_no_tip_cents</th>\n",
       "    </tr>\n",
       "    <tr>\n",
       "        <td>2018-11-04</td>\n",
       "        <td>1</td>\n",
       "        <td>1</td>\n",
       "        <td>2223</td>\n",
       "        <td>701</td>\n",
       "        <td>260</td>\n",
       "        <td>627</td>\n",
       "    </tr>\n",
       "    <tr>\n",
       "        <td>2018-11-04</td>\n",
       "        <td>52</td>\n",
       "        <td>28</td>\n",
       "        <td>20</td>\n",
       "        <td>14</td>\n",
       "        <td>8</td>\n",
       "        <td>2567</td>\n",
       "    </tr>\n",
       "    <tr>\n",
       "        <td>2018-11-04</td>\n",
       "        <td>52</td>\n",
       "        <td>24</td>\n",
       "        <td>3</td>\n",
       "        <td>2</td>\n",
       "        <td>1</td>\n",
       "        <td>3228</td>\n",
       "    </tr>\n",
       "    <tr>\n",
       "        <td>2018-11-04</td>\n",
       "        <td>52</td>\n",
       "        <td>22</td>\n",
       "        <td>1</td>\n",
       "        <td>0</td>\n",
       "        <td>0</td>\n",
       "        <td>6800</td>\n",
       "    </tr>\n",
       "    <tr>\n",
       "        <td>2018-11-04</td>\n",
       "        <td>52</td>\n",
       "        <td>20</td>\n",
       "        <td>1</td>\n",
       "        <td>1</td>\n",
       "        <td>1</td>\n",
       "        <td>2260</td>\n",
       "    </tr>\n",
       "</table>"
      ],
      "text/plain": [
       "[('2018-11-04', 1, 1, 2223, 701, 260, 627),\n",
       " ('2018-11-04', 52, 28, 20, 14, 8, 2567),\n",
       " ('2018-11-04', 52, 24, 3, 2, 1, 3228),\n",
       " ('2018-11-04', 52, 22, 1, 0, 0, 6800),\n",
       " ('2018-11-04', 52, 20, 1, 1, 1, 2260)]"
      ]
     },
     "execution_count": 14,
     "metadata": {},
     "output_type": "execute_result"
    }
   ],
   "source": [
    "%%sql\n",
    "SELECT *\n",
    "FROM rideshare\n",
    "LIMIT 5"
   ]
  },
  {
   "cell_type": "markdown",
   "metadata": {},
   "source": [
    "## Querying a Socrata Data Portal\n",
    "\n",
    "Socrata SQL (SoQL) is a special dialect of SQL that we can use to access datasets from the City of Chicago data portal, as well as other data portals hosted on Socrata.\n",
    "\n",
    "Below is an example code cell, which uses the `request` module to send a query and get the response as well as Pandas to display the result.\n",
    "\n",
    "It can take a while to get a response, because you are sending a request to a remote server that will run your SoQL query against the entire dataset. That is why we write scripts in our offline pipeline to aggregate and download data before applying transformations locally."
   ]
  },
  {
   "cell_type": "code",
   "execution_count": 8,
   "metadata": {},
   "outputs": [
    {
     "data": {
      "text/html": [
       "<div>\n",
       "<style scoped>\n",
       "    .dataframe tbody tr th:only-of-type {\n",
       "        vertical-align: middle;\n",
       "    }\n",
       "\n",
       "    .dataframe tbody tr th {\n",
       "        vertical-align: top;\n",
       "    }\n",
       "\n",
       "    .dataframe thead th {\n",
       "        text-align: right;\n",
       "    }\n",
       "</style>\n",
       "<table border=\"1\" class=\"dataframe\">\n",
       "  <thead>\n",
       "    <tr style=\"text-align: right;\">\n",
       "      <th></th>\n",
       "      <th>pickup_community_area</th>\n",
       "      <th>trip_minutes</th>\n",
       "    </tr>\n",
       "  </thead>\n",
       "  <tbody>\n",
       "    <tr>\n",
       "      <th>0</th>\n",
       "      <td>68</td>\n",
       "      <td>23.5666666666666667</td>\n",
       "    </tr>\n",
       "    <tr>\n",
       "      <th>1</th>\n",
       "      <td>33</td>\n",
       "      <td>25.1000000000000000</td>\n",
       "    </tr>\n",
       "    <tr>\n",
       "      <th>2</th>\n",
       "      <td>25</td>\n",
       "      <td>30.4166666666666667</td>\n",
       "    </tr>\n",
       "    <tr>\n",
       "      <th>3</th>\n",
       "      <td>63</td>\n",
       "      <td>19.6333333333333333</td>\n",
       "    </tr>\n",
       "    <tr>\n",
       "      <th>4</th>\n",
       "      <td>1</td>\n",
       "      <td>7.3166666666666667</td>\n",
       "    </tr>\n",
       "  </tbody>\n",
       "</table>\n",
       "</div>"
      ],
      "text/plain": [
       "  pickup_community_area         trip_minutes\n",
       "0                    68  23.5666666666666667\n",
       "1                    33  25.1000000000000000\n",
       "2                    25  30.4166666666666667\n",
       "3                    63  19.6333333333333333\n",
       "4                     1   7.3166666666666667"
      ]
     },
     "execution_count": 8,
     "metadata": {},
     "output_type": "execute_result"
    }
   ],
   "source": [
    "import pandas as pd\n",
    "import requests\n",
    "\n",
    "dataset_json_url = \"https://data.cityofchicago.org/resource/m6dm-c72p.json\"\n",
    "query = \"\"\"\n",
    "SELECT\n",
    "    pickup_community_area,\n",
    "    trip_seconds / 60 as trip_minutes\n",
    "LIMIT 5\n",
    "\"\"\"\n",
    "r = requests.get(dataset_json_url, params={\"$query\": query})\n",
    "pd.DataFrame(r.json())"
   ]
  },
  {
   "cell_type": "code",
   "execution_count": null,
   "metadata": {},
   "outputs": [],
   "source": []
  }
 ],
 "metadata": {
  "kernelspec": {
   "display_name": "Python 3",
   "language": "python",
   "name": "python3"
  },
  "language_info": {
   "codemirror_mode": {
    "name": "ipython",
    "version": 3
   },
   "file_extension": ".py",
   "mimetype": "text/x-python",
   "name": "python",
   "nbconvert_exporter": "python",
   "pygments_lexer": "ipython3",
   "version": "3.7.10"
  },
  "varInspector": {
   "cols": {
    "lenName": 16,
    "lenType": 16,
    "lenVar": 40
   },
   "kernels_config": {
    "python": {
     "delete_cmd_postfix": "",
     "delete_cmd_prefix": "del ",
     "library": "var_list.py",
     "varRefreshCmd": "print(var_dic_list())"
    },
    "r": {
     "delete_cmd_postfix": ") ",
     "delete_cmd_prefix": "rm(",
     "library": "var_list.r",
     "varRefreshCmd": "cat(var_dic_list()) "
    }
   },
   "types_to_exclude": [
    "module",
    "function",
    "builtin_function_or_method",
    "instance",
    "_Feature"
   ],
   "window_display": false
  }
 },
 "nbformat": 4,
 "nbformat_minor": 2
}
