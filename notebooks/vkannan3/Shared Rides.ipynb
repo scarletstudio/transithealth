{
 "cells": [
  {
   "cell_type": "markdown",
   "metadata": {},
   "source": [
    "# Shared Rides\n",
    "\n",
    "My idea for a question is to explore shared rides (also called pooled trips). Some things I am wondering:\n",
    "\n",
    "- Did shared trips become less common on ridesharing platforms during COVID?\n",
    "- If shared trips dropped overall, did any community areas continue to use shared trips at a similar rate?\n",
    "\n",
    "Data to answer this question comes from the [data portal rideshare trips dataset](https://data.cityofchicago.org/Transportation/Transportation-Network-Providers-Trips/m6dm-c72p). Each row of the dataset is an individual trip and the dataset has this column:\n",
    "\n",
    "**Trips Pooled (Number)**\n",
    "\n",
    "> If customers were matched for a shared trip, how many trips, including this one, were pooled. All customer trips from the time the vehicle was empty until it was empty again contribute to this count, even if some customers were never present in the vehicle at the same time. Each trip making up the overall shared trip will have a separate record in this dataset, with the same value in this column."
   ]
  },
  {
   "cell_type": "code",
   "execution_count": 3,
   "metadata": {},
   "outputs": [],
   "source": [
    "import os\n",
    "os.chdir(\"../../\")"
   ]
  },
  {
   "cell_type": "code",
   "execution_count": 4,
   "metadata": {},
   "outputs": [],
   "source": [
    "import pandas as pd\n",
    "import requests\n",
    "from timeit import default_timer as timer"
   ]
  },
  {
   "cell_type": "code",
   "execution_count": 5,
   "metadata": {},
   "outputs": [],
   "source": [
    "import matplotlib.pyplot as plt\n",
    "import seaborn as sns"
   ]
  },
  {
   "cell_type": "code",
   "execution_count": 36,
   "metadata": {},
   "outputs": [],
   "source": [
    "PORTAL_RIDESHARE_TRIPS = \"https://data.cityofchicago.org/resource/m6dm-c72p.json\""
   ]
  },
  {
   "cell_type": "markdown",
   "metadata": {},
   "source": [
    "First, I will write a query to find out how frequent pooled trips are."
   ]
  },
  {
   "cell_type": "code",
   "execution_count": 37,
   "metadata": {},
   "outputs": [
    {
     "name": "stdout",
     "output_type": "stream",
     "text": [
      "Fetched 23 rows in 0.6 secs.\n"
     ]
    }
   ],
   "source": [
    "query = \"\"\"\n",
    "SELECT\n",
    "    trips_pooled,\n",
    "    count(1) as count\n",
    "GROUP BY trips_pooled\n",
    "\"\"\"\n",
    "start = timer()\n",
    "r = requests.get(PORTAL_RIDESHARE_TRIPS, params={\"$query\": query})\n",
    "df = pd.DataFrame(r.json())\n",
    "secs = timer() - start\n",
    "print(f\"Fetched {len(df):,d} rows in {secs:.1f} secs.\")"
   ]
  },
  {
   "cell_type": "code",
   "execution_count": 38,
   "metadata": {},
   "outputs": [
    {
     "data": {
      "text/html": [
       "<div>\n",
       "<style scoped>\n",
       "    .dataframe tbody tr th:only-of-type {\n",
       "        vertical-align: middle;\n",
       "    }\n",
       "\n",
       "    .dataframe tbody tr th {\n",
       "        vertical-align: top;\n",
       "    }\n",
       "\n",
       "    .dataframe thead th {\n",
       "        text-align: right;\n",
       "    }\n",
       "</style>\n",
       "<table border=\"1\" class=\"dataframe\">\n",
       "  <thead>\n",
       "    <tr style=\"text-align: right;\">\n",
       "      <th></th>\n",
       "      <th>trips_pooled</th>\n",
       "      <th>count</th>\n",
       "    </tr>\n",
       "  </thead>\n",
       "  <tbody>\n",
       "    <tr>\n",
       "      <th>0</th>\n",
       "      <td>1</td>\n",
       "      <td>169311931</td>\n",
       "    </tr>\n",
       "    <tr>\n",
       "      <th>1</th>\n",
       "      <td>2</td>\n",
       "      <td>10805782</td>\n",
       "    </tr>\n",
       "    <tr>\n",
       "      <th>2</th>\n",
       "      <td>3</td>\n",
       "      <td>7065794</td>\n",
       "    </tr>\n",
       "    <tr>\n",
       "      <th>3</th>\n",
       "      <td>4</td>\n",
       "      <td>1677197</td>\n",
       "    </tr>\n",
       "    <tr>\n",
       "      <th>4</th>\n",
       "      <td>5</td>\n",
       "      <td>564758</td>\n",
       "    </tr>\n",
       "  </tbody>\n",
       "</table>\n",
       "</div>"
      ],
      "text/plain": [
       "   trips_pooled      count\n",
       "0             1  169311931\n",
       "1             2   10805782\n",
       "2             3    7065794\n",
       "3             4    1677197\n",
       "4             5     564758"
      ]
     },
     "execution_count": 38,
     "metadata": {},
     "output_type": "execute_result"
    }
   ],
   "source": [
    "df[\"trips_pooled\"] = df[\"trips_pooled\"].astype(int)\n",
    "df[\"count\"] = df[\"count\"].astype(int)\n",
    "df.head()"
   ]
  },
  {
   "cell_type": "markdown",
   "metadata": {},
   "source": [
    "I can plot a histogram (as a bar chart, since I have the counts already) to visualize the distribution."
   ]
  },
  {
   "cell_type": "code",
   "execution_count": 34,
   "metadata": {},
   "outputs": [
    {
     "data": {
      "image/png": "[encoded data removed]",
      "text/plain": [
       "<Figure size 864x432 with 1 Axes>"
      ]
     },
     "metadata": {
      "needs_background": "light"
     },
     "output_type": "display_data"
    }
   ],
   "source": [
    "sns.barplot(data=df.query(\"trips_pooled > 1\"), x=\"trips_pooled\", y=\"count\")\n",
    "plt.title(\"Distribution of Number of Pooled Trips per Ride\")\n",
    "plt.xlabel(\"Number of Pooled Trips\")\n",
    "plt.ylabel(\"Count\")\n",
    "plt.ticklabel_format(style=\"plain\", axis=\"y\")\n",
    "plt.gcf().set_size_inches(12, 6)\n",
    "plt.show()"
   ]
  },
  {
   "cell_type": "code",
   "execution_count": 30,
   "metadata": {},
   "outputs": [
    {
     "data": {
      "text/html": [
       "<div>\n",
       "<style scoped>\n",
       "    .dataframe tbody tr th:only-of-type {\n",
       "        vertical-align: middle;\n",
       "    }\n",
       "\n",
       "    .dataframe tbody tr th {\n",
       "        vertical-align: top;\n",
       "    }\n",
       "\n",
       "    .dataframe thead th {\n",
       "        text-align: right;\n",
       "    }\n",
       "</style>\n",
       "<table border=\"1\" class=\"dataframe\">\n",
       "  <thead>\n",
       "    <tr style=\"text-align: right;\">\n",
       "      <th></th>\n",
       "      <th>trips_pooled</th>\n",
       "      <th>count</th>\n",
       "    </tr>\n",
       "  </thead>\n",
       "  <tbody>\n",
       "    <tr>\n",
       "      <th>0</th>\n",
       "      <td>1</td>\n",
       "      <td>169311931</td>\n",
       "    </tr>\n",
       "    <tr>\n",
       "      <th>1</th>\n",
       "      <td>2</td>\n",
       "      <td>10805782</td>\n",
       "    </tr>\n",
       "    <tr>\n",
       "      <th>2</th>\n",
       "      <td>3</td>\n",
       "      <td>7065794</td>\n",
       "    </tr>\n",
       "    <tr>\n",
       "      <th>3</th>\n",
       "      <td>4</td>\n",
       "      <td>1677197</td>\n",
       "    </tr>\n",
       "    <tr>\n",
       "      <th>4</th>\n",
       "      <td>5</td>\n",
       "      <td>564758</td>\n",
       "    </tr>\n",
       "    <tr>\n",
       "      <th>5</th>\n",
       "      <td>6</td>\n",
       "      <td>221529</td>\n",
       "    </tr>\n",
       "    <tr>\n",
       "      <th>6</th>\n",
       "      <td>7</td>\n",
       "      <td>89105</td>\n",
       "    </tr>\n",
       "    <tr>\n",
       "      <th>7</th>\n",
       "      <td>8</td>\n",
       "      <td>36419</td>\n",
       "    </tr>\n",
       "    <tr>\n",
       "      <th>8</th>\n",
       "      <td>9</td>\n",
       "      <td>14154</td>\n",
       "    </tr>\n",
       "    <tr>\n",
       "      <th>9</th>\n",
       "      <td>10</td>\n",
       "      <td>6063</td>\n",
       "    </tr>\n",
       "    <tr>\n",
       "      <th>10</th>\n",
       "      <td>11</td>\n",
       "      <td>2736</td>\n",
       "    </tr>\n",
       "    <tr>\n",
       "      <th>11</th>\n",
       "      <td>12</td>\n",
       "      <td>1202</td>\n",
       "    </tr>\n",
       "    <tr>\n",
       "      <th>12</th>\n",
       "      <td>13</td>\n",
       "      <td>507</td>\n",
       "    </tr>\n",
       "    <tr>\n",
       "      <th>13</th>\n",
       "      <td>14</td>\n",
       "      <td>196</td>\n",
       "    </tr>\n",
       "    <tr>\n",
       "      <th>14</th>\n",
       "      <td>15</td>\n",
       "      <td>105</td>\n",
       "    </tr>\n",
       "    <tr>\n",
       "      <th>15</th>\n",
       "      <td>16</td>\n",
       "      <td>60</td>\n",
       "    </tr>\n",
       "    <tr>\n",
       "      <th>16</th>\n",
       "      <td>17</td>\n",
       "      <td>17</td>\n",
       "    </tr>\n",
       "    <tr>\n",
       "      <th>17</th>\n",
       "      <td>20</td>\n",
       "      <td>9</td>\n",
       "    </tr>\n",
       "    <tr>\n",
       "      <th>18</th>\n",
       "      <td>24</td>\n",
       "      <td>6</td>\n",
       "    </tr>\n",
       "    <tr>\n",
       "      <th>19</th>\n",
       "      <td>64</td>\n",
       "      <td>12</td>\n",
       "    </tr>\n",
       "    <tr>\n",
       "      <th>20</th>\n",
       "      <td>128</td>\n",
       "      <td>4</td>\n",
       "    </tr>\n",
       "    <tr>\n",
       "      <th>21</th>\n",
       "      <td>4096</td>\n",
       "      <td>2</td>\n",
       "    </tr>\n",
       "    <tr>\n",
       "      <th>22</th>\n",
       "      <td>4097</td>\n",
       "      <td>2</td>\n",
       "    </tr>\n",
       "  </tbody>\n",
       "</table>\n",
       "</div>"
      ],
      "text/plain": [
       "    trips_pooled      count\n",
       "0              1  169311931\n",
       "1              2   10805782\n",
       "2              3    7065794\n",
       "3              4    1677197\n",
       "4              5     564758\n",
       "5              6     221529\n",
       "6              7      89105\n",
       "7              8      36419\n",
       "8              9      14154\n",
       "9             10       6063\n",
       "10            11       2736\n",
       "11            12       1202\n",
       "12            13        507\n",
       "13            14        196\n",
       "14            15        105\n",
       "15            16         60\n",
       "16            17         17\n",
       "17            20          9\n",
       "18            24          6\n",
       "19            64         12\n",
       "20           128          4\n",
       "21          4096          2\n",
       "22          4097          2"
      ]
     },
     "execution_count": 30,
     "metadata": {},
     "output_type": "execute_result"
    }
   ],
   "source": [
    "df"
   ]
  },
  {
   "cell_type": "markdown",
   "metadata": {},
   "source": [
    "I will add a column to the data we extract from the rideshare trips dataset to count the number of pooled trips.\n",
    "\n",
    "Even though I am only fetching 10 rows to test this query, the query is an aggregation on three columns (on a huge dataset), so it will take longer to run."
   ]
  },
  {
   "cell_type": "code",
   "execution_count": 39,
   "metadata": {},
   "outputs": [
    {
     "name": "stdout",
     "output_type": "stream",
     "text": [
      "Fetched 10 rows in 121.7 secs.\n"
     ]
    }
   ],
   "source": [
    "query = \"\"\"\n",
    "SELECT\n",
    "    date_trunc_ymd(trip_start_timestamp) as ymd,\n",
    "    pickup_community_area,\n",
    "    dropoff_community_area,\n",
    "    count(1) as n_trips,\n",
    "    sum(case(trips_pooled > 1, 1, true, 0)) as n_trips_pooled\n",
    "GROUP BY ymd, pickup_community_area, dropoff_community_area\n",
    "LIMIT 10\n",
    "\"\"\"\n",
    "start = timer()\n",
    "r = requests.get(PORTAL_RIDESHARE_TRIPS, params={\"$query\": query})\n",
    "df_trips = pd.DataFrame(r.json())\n",
    "secs = timer() - start\n",
    "print(f\"Fetched {len(df_trips):,d} rows in {secs:.1f} secs.\")"
   ]
  },
  {
   "cell_type": "code",
   "execution_count": 40,
   "metadata": {},
   "outputs": [
    {
     "data": {
      "text/html": [
       "<div>\n",
       "<style scoped>\n",
       "    .dataframe tbody tr th:only-of-type {\n",
       "        vertical-align: middle;\n",
       "    }\n",
       "\n",
       "    .dataframe tbody tr th {\n",
       "        vertical-align: top;\n",
       "    }\n",
       "\n",
       "    .dataframe thead th {\n",
       "        text-align: right;\n",
       "    }\n",
       "</style>\n",
       "<table border=\"1\" class=\"dataframe\">\n",
       "  <thead>\n",
       "    <tr style=\"text-align: right;\">\n",
       "      <th></th>\n",
       "      <th>ymd</th>\n",
       "      <th>pickup_community_area</th>\n",
       "      <th>dropoff_community_area</th>\n",
       "      <th>n_trips</th>\n",
       "      <th>n_trips_pooled</th>\n",
       "    </tr>\n",
       "  </thead>\n",
       "  <tbody>\n",
       "    <tr>\n",
       "      <th>0</th>\n",
       "      <td>2018-11-01T00:00:00.000</td>\n",
       "      <td>1</td>\n",
       "      <td>1</td>\n",
       "      <td>500</td>\n",
       "      <td>52</td>\n",
       "    </tr>\n",
       "    <tr>\n",
       "      <th>1</th>\n",
       "      <td>2018-11-01T00:00:00.000</td>\n",
       "      <td>1</td>\n",
       "      <td>2</td>\n",
       "      <td>217</td>\n",
       "      <td>46</td>\n",
       "    </tr>\n",
       "    <tr>\n",
       "      <th>2</th>\n",
       "      <td>2018-11-01T00:00:00.000</td>\n",
       "      <td>1</td>\n",
       "      <td>3</td>\n",
       "      <td>167</td>\n",
       "      <td>42</td>\n",
       "    </tr>\n",
       "    <tr>\n",
       "      <th>3</th>\n",
       "      <td>2018-11-01T00:00:00.000</td>\n",
       "      <td>1</td>\n",
       "      <td>4</td>\n",
       "      <td>90</td>\n",
       "      <td>26</td>\n",
       "    </tr>\n",
       "    <tr>\n",
       "      <th>4</th>\n",
       "      <td>2018-11-01T00:00:00.000</td>\n",
       "      <td>1</td>\n",
       "      <td>5</td>\n",
       "      <td>40</td>\n",
       "      <td>12</td>\n",
       "    </tr>\n",
       "    <tr>\n",
       "      <th>5</th>\n",
       "      <td>2018-11-01T00:00:00.000</td>\n",
       "      <td>1</td>\n",
       "      <td>6</td>\n",
       "      <td>168</td>\n",
       "      <td>42</td>\n",
       "    </tr>\n",
       "    <tr>\n",
       "      <th>6</th>\n",
       "      <td>2018-11-01T00:00:00.000</td>\n",
       "      <td>1</td>\n",
       "      <td>7</td>\n",
       "      <td>96</td>\n",
       "      <td>14</td>\n",
       "    </tr>\n",
       "    <tr>\n",
       "      <th>7</th>\n",
       "      <td>2018-11-01T00:00:00.000</td>\n",
       "      <td>1</td>\n",
       "      <td>8</td>\n",
       "      <td>235</td>\n",
       "      <td>51</td>\n",
       "    </tr>\n",
       "    <tr>\n",
       "      <th>8</th>\n",
       "      <td>2018-11-01T00:00:00.000</td>\n",
       "      <td>1</td>\n",
       "      <td>9</td>\n",
       "      <td>4</td>\n",
       "      <td>0</td>\n",
       "    </tr>\n",
       "    <tr>\n",
       "      <th>9</th>\n",
       "      <td>2018-11-01T00:00:00.000</td>\n",
       "      <td>1</td>\n",
       "      <td>10</td>\n",
       "      <td>6</td>\n",
       "      <td>2</td>\n",
       "    </tr>\n",
       "  </tbody>\n",
       "</table>\n",
       "</div>"
      ],
      "text/plain": [
       "                       ymd pickup_community_area dropoff_community_area  \\\n",
       "0  2018-11-01T00:00:00.000                     1                      1   \n",
       "1  2018-11-01T00:00:00.000                     1                      2   \n",
       "2  2018-11-01T00:00:00.000                     1                      3   \n",
       "3  2018-11-01T00:00:00.000                     1                      4   \n",
       "4  2018-11-01T00:00:00.000                     1                      5   \n",
       "5  2018-11-01T00:00:00.000                     1                      6   \n",
       "6  2018-11-01T00:00:00.000                     1                      7   \n",
       "7  2018-11-01T00:00:00.000                     1                      8   \n",
       "8  2018-11-01T00:00:00.000                     1                      9   \n",
       "9  2018-11-01T00:00:00.000                     1                     10   \n",
       "\n",
       "  n_trips n_trips_pooled  \n",
       "0     500             52  \n",
       "1     217             46  \n",
       "2     167             42  \n",
       "3      90             26  \n",
       "4      40             12  \n",
       "5     168             42  \n",
       "6      96             14  \n",
       "7     235             51  \n",
       "8       4              0  \n",
       "9       6              2  "
      ]
     },
     "execution_count": 40,
     "metadata": {},
     "output_type": "execute_result"
    }
   ],
   "source": [
    "df_trips"
   ]
  },
  {
   "cell_type": "code",
   "execution_count": 7,
   "metadata": {},
   "outputs": [],
   "source": [
    "df_rideshare = pd.read_csv(\"./pipeline/data/transformed/rideshare.csv\")"
   ]
  },
  {
   "cell_type": "code",
   "execution_count": 11,
   "metadata": {},
   "outputs": [
    {
     "data": {
      "text/html": [
       "<div>\n",
       "<style scoped>\n",
       "    .dataframe tbody tr th:only-of-type {\n",
       "        vertical-align: middle;\n",
       "    }\n",
       "\n",
       "    .dataframe tbody tr th {\n",
       "        vertical-align: top;\n",
       "    }\n",
       "\n",
       "    .dataframe thead th {\n",
       "        text-align: right;\n",
       "    }\n",
       "</style>\n",
       "<table border=\"1\" class=\"dataframe\">\n",
       "  <thead>\n",
       "    <tr style=\"text-align: right;\">\n",
       "      <th></th>\n",
       "      <th>ymd</th>\n",
       "      <th>pickup_community_area</th>\n",
       "      <th>dropoff_community_area</th>\n",
       "      <th>n_trips</th>\n",
       "      <th>n_trips_pooled</th>\n",
       "      <th>week_num</th>\n",
       "      <th>week</th>\n",
       "      <th>frac_shared</th>\n",
       "    </tr>\n",
       "  </thead>\n",
       "  <tbody>\n",
       "    <tr>\n",
       "      <th>0</th>\n",
       "      <td>2018-11-01</td>\n",
       "      <td>1</td>\n",
       "      <td>1</td>\n",
       "      <td>500</td>\n",
       "      <td>52</td>\n",
       "      <td>2018-44</td>\n",
       "      <td>2018-11-04</td>\n",
       "      <td>0.104000</td>\n",
       "    </tr>\n",
       "    <tr>\n",
       "      <th>1</th>\n",
       "      <td>2018-11-01</td>\n",
       "      <td>50</td>\n",
       "      <td>43</td>\n",
       "      <td>19</td>\n",
       "      <td>8</td>\n",
       "      <td>2018-44</td>\n",
       "      <td>2018-11-04</td>\n",
       "      <td>0.421053</td>\n",
       "    </tr>\n",
       "    <tr>\n",
       "      <th>2</th>\n",
       "      <td>2018-11-01</td>\n",
       "      <td>50</td>\n",
       "      <td>44</td>\n",
       "      <td>17</td>\n",
       "      <td>6</td>\n",
       "      <td>2018-44</td>\n",
       "      <td>2018-11-04</td>\n",
       "      <td>0.352941</td>\n",
       "    </tr>\n",
       "    <tr>\n",
       "      <th>3</th>\n",
       "      <td>2018-11-01</td>\n",
       "      <td>50</td>\n",
       "      <td>46</td>\n",
       "      <td>4</td>\n",
       "      <td>1</td>\n",
       "      <td>2018-44</td>\n",
       "      <td>2018-11-04</td>\n",
       "      <td>0.250000</td>\n",
       "    </tr>\n",
       "    <tr>\n",
       "      <th>4</th>\n",
       "      <td>2018-11-01</td>\n",
       "      <td>50</td>\n",
       "      <td>47</td>\n",
       "      <td>6</td>\n",
       "      <td>1</td>\n",
       "      <td>2018-44</td>\n",
       "      <td>2018-11-04</td>\n",
       "      <td>0.166667</td>\n",
       "    </tr>\n",
       "  </tbody>\n",
       "</table>\n",
       "</div>"
      ],
      "text/plain": [
       "          ymd  pickup_community_area  dropoff_community_area  n_trips  \\\n",
       "0  2018-11-01                      1                       1      500   \n",
       "1  2018-11-01                     50                      43       19   \n",
       "2  2018-11-01                     50                      44       17   \n",
       "3  2018-11-01                     50                      46        4   \n",
       "4  2018-11-01                     50                      47        6   \n",
       "\n",
       "   n_trips_pooled week_num        week  frac_shared  \n",
       "0              52  2018-44  2018-11-04     0.104000  \n",
       "1               8  2018-44  2018-11-04     0.421053  \n",
       "2               6  2018-44  2018-11-04     0.352941  \n",
       "3               1  2018-44  2018-11-04     0.250000  \n",
       "4               1  2018-44  2018-11-04     0.166667  "
      ]
     },
     "execution_count": 11,
     "metadata": {},
     "output_type": "execute_result"
    }
   ],
   "source": [
    "df_rideshare[\"frac_shared\"] = df_rideshare[\"n_trips_pooled\"] / df_rideshare[\"n_trips\"]\n",
    "df_rideshare.head()"
   ]
  },
  {
   "cell_type": "code",
   "execution_count": 12,
   "metadata": {},
   "outputs": [
    {
     "data": {
      "text/html": [
       "<div>\n",
       "<style scoped>\n",
       "    .dataframe tbody tr th:only-of-type {\n",
       "        vertical-align: middle;\n",
       "    }\n",
       "\n",
       "    .dataframe tbody tr th {\n",
       "        vertical-align: top;\n",
       "    }\n",
       "\n",
       "    .dataframe thead th {\n",
       "        text-align: right;\n",
       "    }\n",
       "</style>\n",
       "<table border=\"1\" class=\"dataframe\">\n",
       "  <thead>\n",
       "    <tr style=\"text-align: right;\">\n",
       "      <th></th>\n",
       "      <th>week</th>\n",
       "      <th>n_trips</th>\n",
       "      <th>n_trips_pooled</th>\n",
       "      <th>frac_shared</th>\n",
       "    </tr>\n",
       "  </thead>\n",
       "  <tbody>\n",
       "    <tr>\n",
       "      <th>0</th>\n",
       "      <td>2018-11-04</td>\n",
       "      <td>1150466</td>\n",
       "      <td>204721</td>\n",
       "      <td>0.177946</td>\n",
       "    </tr>\n",
       "    <tr>\n",
       "      <th>1</th>\n",
       "      <td>2018-11-11</td>\n",
       "      <td>1881066</td>\n",
       "      <td>330486</td>\n",
       "      <td>0.175691</td>\n",
       "    </tr>\n",
       "    <tr>\n",
       "      <th>2</th>\n",
       "      <td>2018-11-18</td>\n",
       "      <td>1894874</td>\n",
       "      <td>375917</td>\n",
       "      <td>0.198386</td>\n",
       "    </tr>\n",
       "    <tr>\n",
       "      <th>3</th>\n",
       "      <td>2018-11-25</td>\n",
       "      <td>1484903</td>\n",
       "      <td>282622</td>\n",
       "      <td>0.190330</td>\n",
       "    </tr>\n",
       "    <tr>\n",
       "      <th>4</th>\n",
       "      <td>2018-12-02</td>\n",
       "      <td>1852799</td>\n",
       "      <td>358079</td>\n",
       "      <td>0.193264</td>\n",
       "    </tr>\n",
       "  </tbody>\n",
       "</table>\n",
       "</div>"
      ],
      "text/plain": [
       "         week  n_trips  n_trips_pooled  frac_shared\n",
       "0  2018-11-04  1150466          204721     0.177946\n",
       "1  2018-11-11  1881066          330486     0.175691\n",
       "2  2018-11-18  1894874          375917     0.198386\n",
       "3  2018-11-25  1484903          282622     0.190330\n",
       "4  2018-12-02  1852799          358079     0.193264"
      ]
     },
     "execution_count": 12,
     "metadata": {},
     "output_type": "execute_result"
    }
   ],
   "source": [
    "df_gp = df_rideshare.groupby(\"week\")[[\"n_trips\", \"n_trips_pooled\"]].sum()\n",
    "df_gp = df_gp.reset_index().sort_values(by=\"week\", ascending=True)\n",
    "df_gp[\"frac_shared\"] = df_gp[\"n_trips_pooled\"] / df_gp[\"n_trips\"]\n",
    "df_gp.head()"
   ]
  },
  {
   "cell_type": "code",
   "execution_count": 68,
   "metadata": {},
   "outputs": [
    {
     "data": {
      "image/png": "[encoded data removed]",
      "text/plain": [
       "<Figure size 864x432 with 1 Axes>"
      ]
     },
     "metadata": {
      "needs_background": "light"
     },
     "output_type": "display_data"
    }
   ],
   "source": [
    "sns.lineplot(data=df_gp, x=\"week\", y=\"n_trips\", label=\"Total\")\n",
    "sns.lineplot(data=df_gp, x=\"week\", y=\"n_trips_pooled\", label=\"Shared\")\n",
    "plt.title(\"Rideshare Trips by Week\")\n",
    "plt.xlabel(\"Week\")\n",
    "plt.ylabel(\"Number of Trips\")\n",
    "plt.ticklabel_format(style=\"plain\", axis=\"y\")\n",
    "plt.xticks(np.arange(0, len(df_gp), 8), rotation=45)\n",
    "plt.gcf().set_size_inches(12, 6)\n",
    "plt.show()"
   ]
  },
  {
   "cell_type": "code",
   "execution_count": 69,
   "metadata": {},
   "outputs": [
    {
     "data": {
      "image/png": "[encoded data removed]",
      "text/plain": [
       "<Figure size 864x432 with 1 Axes>"
      ]
     },
     "metadata": {
      "needs_background": "light"
     },
     "output_type": "display_data"
    }
   ],
   "source": [
    "sns.lineplot(data=df_gp, x=\"week\", y=\"frac_shared\")\n",
    "plt.title(\"Rideshare Trips by Week\")\n",
    "plt.xlabel(\"Week\")\n",
    "plt.ylabel(\"Fraction Shared (Shared / Total)\")\n",
    "plt.xticks(np.arange(0, len(df_gp), 8), rotation=45)\n",
    "plt.gcf().set_size_inches(12, 6)\n",
    "plt.show()"
   ]
  },
  {
   "cell_type": "code",
   "execution_count": 8,
   "metadata": {},
   "outputs": [
    {
     "data": {
      "text/html": [
       "<div>\n",
       "<style scoped>\n",
       "    .dataframe tbody tr th:only-of-type {\n",
       "        vertical-align: middle;\n",
       "    }\n",
       "\n",
       "    .dataframe tbody tr th {\n",
       "        vertical-align: top;\n",
       "    }\n",
       "\n",
       "    .dataframe thead th {\n",
       "        text-align: right;\n",
       "    }\n",
       "</style>\n",
       "<table border=\"1\" class=\"dataframe\">\n",
       "  <thead>\n",
       "    <tr style=\"text-align: right;\">\n",
       "      <th></th>\n",
       "      <th>week</th>\n",
       "      <th>pickup_community_area</th>\n",
       "      <th>n_trips</th>\n",
       "      <th>n_trips_pooled</th>\n",
       "      <th>frac_shared</th>\n",
       "    </tr>\n",
       "  </thead>\n",
       "  <tbody>\n",
       "    <tr>\n",
       "      <th>0</th>\n",
       "      <td>2018-11-04</td>\n",
       "      <td>1</td>\n",
       "      <td>11886</td>\n",
       "      <td>2435</td>\n",
       "      <td>0.204863</td>\n",
       "    </tr>\n",
       "    <tr>\n",
       "      <th>55</th>\n",
       "      <td>2018-11-04</td>\n",
       "      <td>56</td>\n",
       "      <td>10850</td>\n",
       "      <td>1270</td>\n",
       "      <td>0.117051</td>\n",
       "    </tr>\n",
       "    <tr>\n",
       "      <th>54</th>\n",
       "      <td>2018-11-04</td>\n",
       "      <td>55</td>\n",
       "      <td>181</td>\n",
       "      <td>21</td>\n",
       "      <td>0.116022</td>\n",
       "    </tr>\n",
       "    <tr>\n",
       "      <th>53</th>\n",
       "      <td>2018-11-04</td>\n",
       "      <td>54</td>\n",
       "      <td>417</td>\n",
       "      <td>110</td>\n",
       "      <td>0.263789</td>\n",
       "    </tr>\n",
       "    <tr>\n",
       "      <th>52</th>\n",
       "      <td>2018-11-04</td>\n",
       "      <td>53</td>\n",
       "      <td>1641</td>\n",
       "      <td>347</td>\n",
       "      <td>0.211456</td>\n",
       "    </tr>\n",
       "  </tbody>\n",
       "</table>\n",
       "</div>"
      ],
      "text/plain": [
       "          week  pickup_community_area  n_trips  n_trips_pooled  frac_shared\n",
       "0   2018-11-04                      1    11886            2435     0.204863\n",
       "55  2018-11-04                     56    10850            1270     0.117051\n",
       "54  2018-11-04                     55      181              21     0.116022\n",
       "53  2018-11-04                     54      417             110     0.263789\n",
       "52  2018-11-04                     53     1641             347     0.211456"
      ]
     },
     "execution_count": 8,
     "metadata": {},
     "output_type": "execute_result"
    }
   ],
   "source": [
    "df_gp_area = df_rideshare.groupby([\"week\", \"pickup_community_area\"])[[\"n_trips\", \"n_trips_pooled\"]].sum()\n",
    "df_gp_area = df_gp_area.reset_index().sort_values(by=\"week\", ascending=True)\n",
    "df_gp_area[\"frac_shared\"] = df_gp_area[\"n_trips_pooled\"] / df_gp_area[\"n_trips\"]\n",
    "df_gp_area.head()"
   ]
  },
  {
   "cell_type": "code",
   "execution_count": 26,
   "metadata": {},
   "outputs": [
    {
     "data": {
      "text/html": [
       "<div>\n",
       "<style scoped>\n",
       "    .dataframe tbody tr th:only-of-type {\n",
       "        vertical-align: middle;\n",
       "    }\n",
       "\n",
       "    .dataframe tbody tr th {\n",
       "        vertical-align: top;\n",
       "    }\n",
       "\n",
       "    .dataframe thead th {\n",
       "        text-align: right;\n",
       "    }\n",
       "</style>\n",
       "<table border=\"1\" class=\"dataframe\">\n",
       "  <thead>\n",
       "    <tr style=\"text-align: right;\">\n",
       "      <th></th>\n",
       "      <th>pickup_community_area</th>\n",
       "      <th>frac_shared</th>\n",
       "    </tr>\n",
       "  </thead>\n",
       "  <tbody>\n",
       "    <tr>\n",
       "      <th>8</th>\n",
       "      <td>9</td>\n",
       "      <td>0.033217</td>\n",
       "    </tr>\n",
       "    <tr>\n",
       "      <th>73</th>\n",
       "      <td>74</td>\n",
       "      <td>0.041659</td>\n",
       "    </tr>\n",
       "    <tr>\n",
       "      <th>75</th>\n",
       "      <td>76</td>\n",
       "      <td>0.044719</td>\n",
       "    </tr>\n",
       "    <tr>\n",
       "      <th>9</th>\n",
       "      <td>10</td>\n",
       "      <td>0.050843</td>\n",
       "    </tr>\n",
       "    <tr>\n",
       "      <th>7</th>\n",
       "      <td>8</td>\n",
       "      <td>0.051112</td>\n",
       "    </tr>\n",
       "    <tr>\n",
       "      <th>...</th>\n",
       "      <td>...</td>\n",
       "      <td>...</td>\n",
       "    </tr>\n",
       "    <tr>\n",
       "      <th>35</th>\n",
       "      <td>36</td>\n",
       "      <td>0.162283</td>\n",
       "    </tr>\n",
       "    <tr>\n",
       "      <th>66</th>\n",
       "      <td>67</td>\n",
       "      <td>0.164036</td>\n",
       "    </tr>\n",
       "    <tr>\n",
       "      <th>39</th>\n",
       "      <td>40</td>\n",
       "      <td>0.167782</td>\n",
       "    </tr>\n",
       "    <tr>\n",
       "      <th>25</th>\n",
       "      <td>26</td>\n",
       "      <td>0.167883</td>\n",
       "    </tr>\n",
       "    <tr>\n",
       "      <th>28</th>\n",
       "      <td>29</td>\n",
       "      <td>0.170059</td>\n",
       "    </tr>\n",
       "  </tbody>\n",
       "</table>\n",
       "<p>77 rows × 2 columns</p>\n",
       "</div>"
      ],
      "text/plain": [
       "    pickup_community_area  frac_shared\n",
       "8                       9     0.033217\n",
       "73                     74     0.041659\n",
       "75                     76     0.044719\n",
       "9                      10     0.050843\n",
       "7                       8     0.051112\n",
       "..                    ...          ...\n",
       "35                     36     0.162283\n",
       "66                     67     0.164036\n",
       "39                     40     0.167782\n",
       "25                     26     0.167883\n",
       "28                     29     0.170059\n",
       "\n",
       "[77 rows x 2 columns]"
      ]
     },
     "execution_count": 26,
     "metadata": {},
     "output_type": "execute_result"
    }
   ],
   "source": [
    "df_gp_area \\\n",
    "    .groupby(\"pickup_community_area\")[\"frac_shared\"] \\\n",
    "    .mean() \\\n",
    "    .reset_index() \\\n",
    "    .sort_values(by=\"frac_shared\")"
   ]
  },
  {
   "cell_type": "code",
   "execution_count": 28,
   "metadata": {},
   "outputs": [
    {
     "data": {
      "image/png": "[encoded data removed]",
      "text/plain": [
       "<Figure size 864x432 with 1 Axes>"
      ]
     },
     "metadata": {
      "needs_background": "light"
     },
     "output_type": "display_data"
    }
   ],
   "source": [
    "d = df_gp_area.query(\"pickup_community_area in (9, 29)\")\n",
    "sns.lineplot(data=d, x=\"week\", y=\"frac_shared\", hue=\"pickup_community_area\")\n",
    "plt.title(\"Rideshare Trips by Week\")\n",
    "plt.xlabel(\"Week\")\n",
    "plt.ylabel(\"Fraction Shared (Shared / Total)\")\n",
    "plt.xticks(np.arange(0, len(df_gp), 8), rotation=45)\n",
    "plt.gcf().set_size_inches(12, 6)\n",
    "plt.show()"
   ]
  },
  {
   "cell_type": "code",
   "execution_count": null,
   "metadata": {},
   "outputs": [],
   "source": []
  }
 ],
 "metadata": {
  "kernelspec": {
   "display_name": "Python 3",
   "language": "python",
   "name": "python3"
  },
  "language_info": {
   "codemirror_mode": {
    "name": "ipython",
    "version": 3
   },
   "file_extension": ".py",
   "mimetype": "text/x-python",
   "name": "python",
   "nbconvert_exporter": "python",
   "pygments_lexer": "ipython3",
   "version": "3.6.1"
  },
  "varInspector": {
   "cols": {
    "lenName": 16,
    "lenType": 16,
    "lenVar": 40
   },
   "kernels_config": {
    "python": {
     "delete_cmd_postfix": "",
     "delete_cmd_prefix": "del ",
     "library": "var_list.py",
     "varRefreshCmd": "print(var_dic_list())"
    },
    "r": {
     "delete_cmd_postfix": ") ",
     "delete_cmd_prefix": "rm(",
     "library": "var_list.r",
     "varRefreshCmd": "cat(var_dic_list()) "
    }
   },
   "types_to_exclude": [
    "module",
    "function",
    "builtin_function_or_method",
    "instance",
    "_Feature"
   ],
   "window_display": false
  }
 },
 "nbformat": 4,
 "nbformat_minor": 2
}
