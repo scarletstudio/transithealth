{
 "cells": [
  {
   "cell_type": "markdown",
   "metadata": {},
   "source": [
    "# Chicago Health Atlas\n",
    "\n",
    "[The Chicago Health Atlas](https://chicagohealthatlas.org/) is a great resource for public health and population data. It even has its own [API](https://chicagohealthatlas.org/api/v1)!"
   ]
  },
  {
   "cell_type": "code",
   "execution_count": 1,
   "metadata": {},
   "outputs": [],
   "source": [
    "import pandas as pd\n",
    "import requests"
   ]
  },
  {
   "cell_type": "code",
   "execution_count": 2,
   "metadata": {},
   "outputs": [],
   "source": [
    "API = \"https://chicagohealthatlas.org/api/v1\""
   ]
  },
  {
   "cell_type": "markdown",
   "metadata": {},
   "source": [
    "## Sample Request\n",
    "\n",
    "This is how we can fetch data from the Chicago Health Atlas API.\n",
    "\n",
    "This example gets the 2015-2019 population estimate for the Bridgeport community area (#60)."
   ]
  },
  {
   "cell_type": "code",
   "execution_count": 3,
   "metadata": {
    "scrolled": false
   },
   "outputs": [
    {
     "data": {
      "text/plain": [
       "{'time': '17.04 ms',\n",
       " 'params': {'layer': 'neighborhood',\n",
       "  'geography': '1714000-60',\n",
       "  'topic': 'POP',\n",
       "  'period': '2015-2019',\n",
       "  'population': ''},\n",
       " 'count': 1,\n",
       " 'results': [{'se': 1007.34981865271,\n",
       "   'g': '1714000-60',\n",
       "   'l': 'neighborhood',\n",
       "   'a': 'POP',\n",
       "   'p': '',\n",
       "   'd': '2015-2019',\n",
       "   'v': 34483.901503}]}"
      ]
     },
     "execution_count": 3,
     "metadata": {},
     "output_type": "execute_result"
    }
   ],
   "source": [
    "geoid_bridgeport = \"1714000-60\"\n",
    "r = requests.get(f\"{API}/data\", params={\n",
    "    \"layer\": \"neighborhood\",\n",
    "    \"geography\": geoid_bridgeport,\n",
    "    \"topic\": \"POP\",\n",
    "    \"period\": \"2015-2019\",\n",
    "    # empty string = entire population\n",
    "    \"population\": \"\"\n",
    "})\n",
    "data = r.json()\n",
    "data"
   ]
  },
  {
   "cell_type": "markdown",
   "metadata": {},
   "source": [
    "## Get Coverages\n",
    "\n",
    "We can explore other metrics besides population (POP) in the [Topic List](https://chicagohealthatlas.org/api/v1/topics).\n",
    "\n",
    "Once we have chosen a topic, we need to send a request to the **\"coverage\"** endpoint to find out what coverage this metric has. For example, getting the coverage of POP tells us which year periods and population segments we have population estimates for at the community area (neighborhood) level."
   ]
  },
  {
   "cell_type": "code",
   "execution_count": 4,
   "metadata": {
    "scrolled": false
   },
   "outputs": [],
   "source": [
    "coverage = requests.get(f\"{API}/coverage/POP\", params={\n",
    "    \"layers\": \"neighborhood\"\n",
    "}).json()"
   ]
  },
  {
   "cell_type": "code",
   "execution_count": 5,
   "metadata": {},
   "outputs": [
    {
     "data": {
      "text/html": [
       "<div>\n",
       "<style scoped>\n",
       "    .dataframe tbody tr th:only-of-type {\n",
       "        vertical-align: middle;\n",
       "    }\n",
       "\n",
       "    .dataframe tbody tr th {\n",
       "        vertical-align: top;\n",
       "    }\n",
       "\n",
       "    .dataframe thead th {\n",
       "        text-align: right;\n",
       "    }\n",
       "</style>\n",
       "<table border=\"1\" class=\"dataframe\">\n",
       "  <thead>\n",
       "    <tr style=\"text-align: right;\">\n",
       "      <th></th>\n",
       "      <th>period</th>\n",
       "      <th>population</th>\n",
       "    </tr>\n",
       "  </thead>\n",
       "  <tbody>\n",
       "    <tr>\n",
       "      <th>0</th>\n",
       "      <td>2015-2019</td>\n",
       "      <td></td>\n",
       "    </tr>\n",
       "    <tr>\n",
       "      <th>1</th>\n",
       "      <td>2014-2018</td>\n",
       "      <td></td>\n",
       "    </tr>\n",
       "    <tr>\n",
       "      <th>2</th>\n",
       "      <td>2013-2017</td>\n",
       "      <td></td>\n",
       "    </tr>\n",
       "    <tr>\n",
       "      <th>3</th>\n",
       "      <td>2012-2016</td>\n",
       "      <td></td>\n",
       "    </tr>\n",
       "    <tr>\n",
       "      <th>4</th>\n",
       "      <td>2011-2015</td>\n",
       "      <td></td>\n",
       "    </tr>\n",
       "    <tr>\n",
       "      <th>5</th>\n",
       "      <td>2010-2014</td>\n",
       "      <td></td>\n",
       "    </tr>\n",
       "    <tr>\n",
       "      <th>6</th>\n",
       "      <td>2009-2013</td>\n",
       "      <td></td>\n",
       "    </tr>\n",
       "    <tr>\n",
       "      <th>7</th>\n",
       "      <td>2008-2012</td>\n",
       "      <td></td>\n",
       "    </tr>\n",
       "    <tr>\n",
       "      <th>8</th>\n",
       "      <td>2007-2011</td>\n",
       "      <td></td>\n",
       "    </tr>\n",
       "    <tr>\n",
       "      <th>9</th>\n",
       "      <td>2006-2010</td>\n",
       "      <td></td>\n",
       "    </tr>\n",
       "    <tr>\n",
       "      <th>10</th>\n",
       "      <td>2015-2019</td>\n",
       "      <td>W</td>\n",
       "    </tr>\n",
       "    <tr>\n",
       "      <th>11</th>\n",
       "      <td>2014-2018</td>\n",
       "      <td>W</td>\n",
       "    </tr>\n",
       "    <tr>\n",
       "      <th>12</th>\n",
       "      <td>2013-2017</td>\n",
       "      <td>W</td>\n",
       "    </tr>\n",
       "    <tr>\n",
       "      <th>13</th>\n",
       "      <td>2012-2016</td>\n",
       "      <td>W</td>\n",
       "    </tr>\n",
       "    <tr>\n",
       "      <th>14</th>\n",
       "      <td>2011-2015</td>\n",
       "      <td>W</td>\n",
       "    </tr>\n",
       "    <tr>\n",
       "      <th>15</th>\n",
       "      <td>2015-2019</td>\n",
       "      <td>B</td>\n",
       "    </tr>\n",
       "    <tr>\n",
       "      <th>16</th>\n",
       "      <td>2014-2018</td>\n",
       "      <td>B</td>\n",
       "    </tr>\n",
       "    <tr>\n",
       "      <th>17</th>\n",
       "      <td>2013-2017</td>\n",
       "      <td>B</td>\n",
       "    </tr>\n",
       "    <tr>\n",
       "      <th>18</th>\n",
       "      <td>2012-2016</td>\n",
       "      <td>B</td>\n",
       "    </tr>\n",
       "    <tr>\n",
       "      <th>19</th>\n",
       "      <td>2011-2015</td>\n",
       "      <td>B</td>\n",
       "    </tr>\n",
       "    <tr>\n",
       "      <th>20</th>\n",
       "      <td>2015-2019</td>\n",
       "      <td>A</td>\n",
       "    </tr>\n",
       "    <tr>\n",
       "      <th>21</th>\n",
       "      <td>2014-2018</td>\n",
       "      <td>A</td>\n",
       "    </tr>\n",
       "    <tr>\n",
       "      <th>22</th>\n",
       "      <td>2013-2017</td>\n",
       "      <td>A</td>\n",
       "    </tr>\n",
       "    <tr>\n",
       "      <th>23</th>\n",
       "      <td>2012-2016</td>\n",
       "      <td>A</td>\n",
       "    </tr>\n",
       "    <tr>\n",
       "      <th>24</th>\n",
       "      <td>2011-2015</td>\n",
       "      <td>A</td>\n",
       "    </tr>\n",
       "  </tbody>\n",
       "</table>\n",
       "</div>"
      ],
      "text/plain": [
       "       period population\n",
       "0   2015-2019           \n",
       "1   2014-2018           \n",
       "2   2013-2017           \n",
       "3   2012-2016           \n",
       "4   2011-2015           \n",
       "5   2010-2014           \n",
       "6   2009-2013           \n",
       "7   2008-2012           \n",
       "8   2007-2011           \n",
       "9   2006-2010           \n",
       "10  2015-2019          W\n",
       "11  2014-2018          W\n",
       "12  2013-2017          W\n",
       "13  2012-2016          W\n",
       "14  2011-2015          W\n",
       "15  2015-2019          B\n",
       "16  2014-2018          B\n",
       "17  2013-2017          B\n",
       "18  2012-2016          B\n",
       "19  2011-2015          B\n",
       "20  2015-2019          A\n",
       "21  2014-2018          A\n",
       "22  2013-2017          A\n",
       "23  2012-2016          A\n",
       "24  2011-2015          A"
      ]
     },
     "execution_count": 5,
     "metadata": {},
     "output_type": "execute_result"
    }
   ],
   "source": [
    "df_coverage = pd.DataFrame(coverage[\"coverages\"][\"neighborhood\"])\n",
    "df_coverage.head(25)"
   ]
  },
  {
   "cell_type": "markdown",
   "metadata": {},
   "source": [
    "## Extracting Data For All Areas\n",
    "\n",
    "Now we can query the Chicago Health Atlas API for all 10 periods that have total population estimates. Later, we can save the other population segment estimates.\n",
    "\n",
    "We can use the handy `tqdm` library to track our progress. To avoid overwhelming the API, we put a small `sleep` after each request, which waits for a given number of seconds.\n",
    "\n",
    "The Health Atlas response data has one-letter field names, so we can also import a variable from our `utils` module that will help us rename the results to more descriptive column names. (Remember that we use the `os.chdir` to change directories so that we can import from the `utils` module.)"
   ]
  },
  {
   "cell_type": "code",
   "execution_count": 6,
   "metadata": {},
   "outputs": [],
   "source": [
    "import os\n",
    "os.chdir(\"../../\")\n",
    "\n",
    "from tqdm import tqdm\n",
    "from time import sleep\n",
    "from pipeline.utils.data import HEALTH_ATLAS_VALUE_COLS"
   ]
  },
  {
   "cell_type": "code",
   "execution_count": 7,
   "metadata": {},
   "outputs": [
    {
     "data": {
      "text/plain": [
       "['2015-2019',\n",
       " '2014-2018',\n",
       " '2013-2017',\n",
       " '2012-2016',\n",
       " '2011-2015',\n",
       " '2010-2014',\n",
       " '2009-2013',\n",
       " '2008-2012',\n",
       " '2007-2011',\n",
       " '2006-2010']"
      ]
     },
     "execution_count": 7,
     "metadata": {},
     "output_type": "execute_result"
    }
   ],
   "source": [
    "# Get periods only for the full population (empty string)\n",
    "periods_full_population = list(df_coverage[df_coverage[\"population\"] == \"\"][\"period\"].values)\n",
    "periods_full_population"
   ]
  },
  {
   "cell_type": "code",
   "execution_count": 8,
   "metadata": {},
   "outputs": [
    {
     "name": "stderr",
     "output_type": "stream",
     "text": [
      "100%|██████████| 10/10 [00:05<00:00,  1.68it/s]\n"
     ]
    }
   ],
   "source": [
    "# Request endpoint for each period\n",
    "rows = []\n",
    "for period in tqdm(periods_full_population):\n",
    "    r = requests.get(f\"{API}/data\", params={\n",
    "        \"layer\": \"neighborhood\",\n",
    "        \"topic\": \"POP\",\n",
    "        \"period\": period,\n",
    "        # empty string = entire population\n",
    "        \"population\": \"\"\n",
    "    })\n",
    "    data = r.json()\n",
    "    for record in data[\"results\"]:\n",
    "        rows.append(record)\n",
    "    sleep(0.1)"
   ]
  },
  {
   "cell_type": "code",
   "execution_count": 9,
   "metadata": {},
   "outputs": [
    {
     "data": {
      "text/html": [
       "<div>\n",
       "<style scoped>\n",
       "    .dataframe tbody tr th:only-of-type {\n",
       "        vertical-align: middle;\n",
       "    }\n",
       "\n",
       "    .dataframe tbody tr th {\n",
       "        vertical-align: top;\n",
       "    }\n",
       "\n",
       "    .dataframe thead th {\n",
       "        text-align: right;\n",
       "    }\n",
       "</style>\n",
       "<table border=\"1\" class=\"dataframe\">\n",
       "  <thead>\n",
       "    <tr style=\"text-align: right;\">\n",
       "      <th></th>\n",
       "      <th>topic</th>\n",
       "      <th>period</th>\n",
       "      <th>geoid</th>\n",
       "      <th>layer</th>\n",
       "      <th>population</th>\n",
       "      <th>std_error</th>\n",
       "      <th>value</th>\n",
       "    </tr>\n",
       "  </thead>\n",
       "  <tbody>\n",
       "    <tr>\n",
       "      <th>0</th>\n",
       "      <td>POP</td>\n",
       "      <td>2015-2019</td>\n",
       "      <td>1714000-35</td>\n",
       "      <td>neighborhood</td>\n",
       "      <td></td>\n",
       "      <td>599.526302</td>\n",
       "      <td>18763.463356</td>\n",
       "    </tr>\n",
       "    <tr>\n",
       "      <th>1</th>\n",
       "      <td>POP</td>\n",
       "      <td>2015-2019</td>\n",
       "      <td>1714000-36</td>\n",
       "      <td>neighborhood</td>\n",
       "      <td></td>\n",
       "      <td>264.595461</td>\n",
       "      <td>4425.440249</td>\n",
       "    </tr>\n",
       "    <tr>\n",
       "      <th>2</th>\n",
       "      <td>POP</td>\n",
       "      <td>2015-2019</td>\n",
       "      <td>1714000-37</td>\n",
       "      <td>neighborhood</td>\n",
       "      <td></td>\n",
       "      <td>225.084211</td>\n",
       "      <td>2396.551147</td>\n",
       "    </tr>\n",
       "    <tr>\n",
       "      <th>3</th>\n",
       "      <td>POP</td>\n",
       "      <td>2015-2019</td>\n",
       "      <td>1714000-38</td>\n",
       "      <td>neighborhood</td>\n",
       "      <td></td>\n",
       "      <td>935.904257</td>\n",
       "      <td>22636.700945</td>\n",
       "    </tr>\n",
       "    <tr>\n",
       "      <th>4</th>\n",
       "      <td>POP</td>\n",
       "      <td>2015-2019</td>\n",
       "      <td>1714000-39</td>\n",
       "      <td>neighborhood</td>\n",
       "      <td></td>\n",
       "      <td>576.190097</td>\n",
       "      <td>14201.388739</td>\n",
       "    </tr>\n",
       "  </tbody>\n",
       "</table>\n",
       "</div>"
      ],
      "text/plain": [
       "  topic     period       geoid         layer population   std_error  \\\n",
       "0   POP  2015-2019  1714000-35  neighborhood             599.526302   \n",
       "1   POP  2015-2019  1714000-36  neighborhood             264.595461   \n",
       "2   POP  2015-2019  1714000-37  neighborhood             225.084211   \n",
       "3   POP  2015-2019  1714000-38  neighborhood             935.904257   \n",
       "4   POP  2015-2019  1714000-39  neighborhood             576.190097   \n",
       "\n",
       "          value  \n",
       "0  18763.463356  \n",
       "1   4425.440249  \n",
       "2   2396.551147  \n",
       "3  22636.700945  \n",
       "4  14201.388739  "
      ]
     },
     "execution_count": 9,
     "metadata": {},
     "output_type": "execute_result"
    }
   ],
   "source": [
    "df_pop = pd.DataFrame(rows)\n",
    "df_pop.rename(inplace=True, columns=HEALTH_ATLAS_VALUE_COLS)\n",
    "df_pop.head()"
   ]
  },
  {
   "cell_type": "code",
   "execution_count": null,
   "metadata": {},
   "outputs": [],
   "source": []
  }
 ],
 "metadata": {
  "kernelspec": {
   "display_name": "Python 3",
   "language": "python",
   "name": "python3"
  },
  "language_info": {
   "codemirror_mode": {
    "name": "ipython",
    "version": 3
   },
   "file_extension": ".py",
   "mimetype": "text/x-python",
   "name": "python",
   "nbconvert_exporter": "python",
   "pygments_lexer": "ipython3",
   "version": "3.6.1"
  },
  "varInspector": {
   "cols": {
    "lenName": 16,
    "lenType": 16,
    "lenVar": 40
   },
   "kernels_config": {
    "python": {
     "delete_cmd_postfix": "",
     "delete_cmd_prefix": "del ",
     "library": "var_list.py",
     "varRefreshCmd": "print(var_dic_list())"
    },
    "r": {
     "delete_cmd_postfix": ") ",
     "delete_cmd_prefix": "rm(",
     "library": "var_list.r",
     "varRefreshCmd": "cat(var_dic_list()) "
    }
   },
   "types_to_exclude": [
    "module",
    "function",
    "builtin_function_or_method",
    "instance",
    "_Feature"
   ],
   "window_display": false
  }
 },
 "nbformat": 4,
 "nbformat_minor": 2
}
