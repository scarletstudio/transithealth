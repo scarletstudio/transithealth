{
 "cells": [
  {
   "cell_type": "markdown",
   "metadata": {},
   "source": [
    "# Chicago Health Atlas\n",
    "\n",
    "The Chicago Health Atlas is a great resource for public health and population data. It even has its own [API](https://api.chicagohealthatlas.org/api-docs/index.html)!"
   ]
  },
  {
   "cell_type": "code",
   "execution_count": 1,
   "metadata": {},
   "outputs": [],
   "source": [
    "import pandas as pd\n",
    "import requests"
   ]
  },
  {
   "cell_type": "code",
   "execution_count": 3,
   "metadata": {},
   "outputs": [],
   "source": [
    "API = \"https://api.chicagohealthatlas.org/api/v1\""
   ]
  },
  {
   "cell_type": "markdown",
   "metadata": {},
   "source": [
    "## Sample Request\n",
    "\n",
    "This is how we can fetch data from the Chicago Health Atlas API."
   ]
  },
  {
   "cell_type": "code",
   "execution_count": 13,
   "metadata": {},
   "outputs": [
    {
     "data": {
      "text/plain": [
       "{'location': 'albany-park',\n",
       " 'demographic_data': [{'age_group': '00-04',\n",
       "   'pop_2000': 4999.0,\n",
       "   'pop_2010': 4224.0},\n",
       "  {'age_group': '05-14', 'pop_2000': 8557.0, 'pop_2010': 6843.0},\n",
       "  {'age_group': '15-24', 'pop_2000': 10032.0, 'pop_2010': 8247.0},\n",
       "  {'age_group': '25-34', 'pop_2000': 11234.0, 'pop_2010': 10024.0},\n",
       "  {'age_group': '35-44', 'pop_2000': 8553.0, 'pop_2010': 7828.0},\n",
       "  {'age_group': '45-54', 'pop_2000': 6357.0, 'pop_2010': 6100.0},\n",
       "  {'age_group': '55-64', 'pop_2000': 3685.0, 'pop_2010': 4299.0},\n",
       "  {'age_group': '65-74', 'pop_2000': 2206.0, 'pop_2010': 2176.0},\n",
       "  {'age_group': '75-84', 'pop_2000': 1469.0, 'pop_2010': 1227.0},\n",
       "  {'age_group': '85+', 'pop_2000': 563.0, 'pop_2010': 574.0}],\n",
       " 'total_population_data': {'pop_2000': 57655, 'pop_2010': 51542},\n",
       " 'topics_data': [{'title': 'Below Poverty Level',\n",
       "   'data': {'id': None,\n",
       "    'name': 'Below Poverty Level',\n",
       "    'value': 17.1,\n",
       "    'description': 'Percent of households under the poverty level for the years 2007-2011.',\n",
       "    'stat_type': 'range, percent'}},\n",
       "  {'title': 'Crowded Housing',\n",
       "   'data': {'id': None,\n",
       "    'name': 'Crowded Housing',\n",
       "    'value': 11.2,\n",
       "    'description': 'Percent of occupied crowded housing units for the years 2007-2011.',\n",
       "    'stat_type': 'range, percent'}},\n",
       "  {'title': 'Dependency',\n",
       "   'data': {'id': None,\n",
       "    'name': 'Dependency',\n",
       "    'value': 32.1,\n",
       "    'description': 'Percent of persons aged less than 16 or more than 64 years for the years 2007-2011.',\n",
       "    'stat_type': 'range, percent'}},\n",
       "  {'title': 'No High School Diploma',\n",
       "   'data': {'id': None,\n",
       "    'name': 'No High School Diploma',\n",
       "    'value': 34.9,\n",
       "    'description': 'Percent of persons aged 25 years and older with no high school diploma for the years 2007-2011.',\n",
       "    'stat_type': 'range, percent'}},\n",
       "  {'title': 'Per capita income',\n",
       "   'data': {'id': None,\n",
       "    'name': 'Per capita income',\n",
       "    'value': 20355.0,\n",
       "    'description': '2011 inflation-adjusted dollars of annual income per person for the years 2007-2011',\n",
       "    'stat_type': 'range, money'}},\n",
       "  {'title': 'Unemployment',\n",
       "   'data': {'id': None,\n",
       "    'name': 'Unemployment',\n",
       "    'value': 9.0,\n",
       "    'description': 'Percent of persons in labor force aged 16 years and older for the years 2007-2011',\n",
       "    'stat_type': 'range, percent'}}]}"
      ]
     },
     "execution_count": 13,
     "metadata": {},
     "output_type": "execute_result"
    }
   ],
   "source": [
    "area_slug = \"albany-park\"\n",
    "r = requests.get(f\"{API}/place/demography/{area_slug}\")\n",
    "r.json()"
   ]
  },
  {
   "cell_type": "markdown",
   "metadata": {},
   "source": [
    "## Community Areas Dataset\n",
    "\n",
    "One common data ingestion task we will want to do is get public health data by community area.\n",
    "\n",
    "We have two datasets for the the 77 community areas in Chicago:\n",
    "\n",
    "- [Chicago Data Portal](https://data.cityofchicago.org/Facilities-Geographic-Boundaries/Boundaries-Community-Areas-current-/cauq-8yn6): includes area number\n",
    "- [Chicago Health Atlas](https://api.chicagohealthatlas.org/api-docs/index.html) includes area slug\n",
    "\n",
    "We need to look up community areas by area number or area slug depending on the data source, so we should link these two datasets.\n",
    "\n",
    "In the future, we will also have to map street address or longitude/latitude coordinates to community areas, so this will be neither the first nor the last time we have to use different methods when working with community area data."
   ]
  },
  {
   "cell_type": "code",
   "execution_count": 24,
   "metadata": {},
   "outputs": [
    {
     "name": "stdout",
     "output_type": "stream",
     "text": [
      "77 community areas in the places data.\n"
     ]
    }
   ],
   "source": [
    "r = requests.get(f\"{API}/places\")\n",
    "res_places = r.json()\n",
    "df_places = pd.DataFrame(res_places[\"community_areas\"])\n",
    "print(f\"{len(df_places)} community areas in the places data.\")"
   ]
  },
  {
   "cell_type": "code",
   "execution_count": 25,
   "metadata": {},
   "outputs": [
    {
     "data": {
      "text/html": [
       "<div>\n",
       "<style scoped>\n",
       "    .dataframe tbody tr th:only-of-type {\n",
       "        vertical-align: middle;\n",
       "    }\n",
       "\n",
       "    .dataframe tbody tr th {\n",
       "        vertical-align: top;\n",
       "    }\n",
       "\n",
       "    .dataframe thead th {\n",
       "        text-align: right;\n",
       "    }\n",
       "</style>\n",
       "<table border=\"1\" class=\"dataframe\">\n",
       "  <thead>\n",
       "    <tr style=\"text-align: right;\">\n",
       "      <th></th>\n",
       "      <th>centroid</th>\n",
       "      <th>geo_type</th>\n",
       "      <th>geometry</th>\n",
       "      <th>id</th>\n",
       "      <th>name</th>\n",
       "      <th>part</th>\n",
       "      <th>resource_cnt</th>\n",
       "      <th>slug</th>\n",
       "    </tr>\n",
       "  </thead>\n",
       "  <tbody>\n",
       "    <tr>\n",
       "      <th>0</th>\n",
       "      <td>[-87.72156,41.968068]</td>\n",
       "      <td>Community Area</td>\n",
       "      <td>{\"type\":\"MultiPolygon\",\"coordinates\":[[[[-87.7...</td>\n",
       "      <td>None</td>\n",
       "      <td>Albany Park</td>\n",
       "      <td>Far North Side</td>\n",
       "      <td>0</td>\n",
       "      <td>albany-park</td>\n",
       "    </tr>\n",
       "    <tr>\n",
       "      <th>1</th>\n",
       "      <td>[-87.726363,41.81088]</td>\n",
       "      <td>Community Area</td>\n",
       "      <td>{\"type\":\"MultiPolygon\",\"coordinates\":[[[[-87.7...</td>\n",
       "      <td>None</td>\n",
       "      <td>Archer Heights</td>\n",
       "      <td>Southwest side</td>\n",
       "      <td>388</td>\n",
       "      <td>archer-heights</td>\n",
       "    </tr>\n",
       "    <tr>\n",
       "      <th>2</th>\n",
       "      <td>[-87.633974,41.842077]</td>\n",
       "      <td>Community Area</td>\n",
       "      <td>{\"type\":\"MultiPolygon\",\"coordinates\":[[[[-87.6...</td>\n",
       "      <td>None</td>\n",
       "      <td>Armour Square</td>\n",
       "      <td>South Side</td>\n",
       "      <td>0</td>\n",
       "      <td>armour-square</td>\n",
       "    </tr>\n",
       "    <tr>\n",
       "      <th>3</th>\n",
       "      <td>[-87.708365,41.745757]</td>\n",
       "      <td>Community Area</td>\n",
       "      <td>{\"type\":\"MultiPolygon\",\"coordinates\":[[[[-87.7...</td>\n",
       "      <td>None</td>\n",
       "      <td>Ashburn</td>\n",
       "      <td>Far Southwest side</td>\n",
       "      <td>90</td>\n",
       "      <td>ashburn</td>\n",
       "    </tr>\n",
       "    <tr>\n",
       "      <th>4</th>\n",
       "      <td>[-87.656307,41.744205]</td>\n",
       "      <td>Community Area</td>\n",
       "      <td>{\"type\":\"MultiPolygon\",\"coordinates\":[[[[-87.6...</td>\n",
       "      <td>None</td>\n",
       "      <td>Auburn Gresham</td>\n",
       "      <td>Far Southwest side</td>\n",
       "      <td>571</td>\n",
       "      <td>auburn-gresham</td>\n",
       "    </tr>\n",
       "  </tbody>\n",
       "</table>\n",
       "</div>"
      ],
      "text/plain": [
       "                 centroid        geo_type  \\\n",
       "0   [-87.72156,41.968068]  Community Area   \n",
       "1   [-87.726363,41.81088]  Community Area   \n",
       "2  [-87.633974,41.842077]  Community Area   \n",
       "3  [-87.708365,41.745757]  Community Area   \n",
       "4  [-87.656307,41.744205]  Community Area   \n",
       "\n",
       "                                            geometry    id            name  \\\n",
       "0  {\"type\":\"MultiPolygon\",\"coordinates\":[[[[-87.7...  None     Albany Park   \n",
       "1  {\"type\":\"MultiPolygon\",\"coordinates\":[[[[-87.7...  None  Archer Heights   \n",
       "2  {\"type\":\"MultiPolygon\",\"coordinates\":[[[[-87.6...  None   Armour Square   \n",
       "3  {\"type\":\"MultiPolygon\",\"coordinates\":[[[[-87.7...  None         Ashburn   \n",
       "4  {\"type\":\"MultiPolygon\",\"coordinates\":[[[[-87.6...  None  Auburn Gresham   \n",
       "\n",
       "                 part  resource_cnt            slug  \n",
       "0      Far North Side             0     albany-park  \n",
       "1      Southwest side           388  archer-heights  \n",
       "2          South Side             0   armour-square  \n",
       "3  Far Southwest side            90         ashburn  \n",
       "4  Far Southwest side           571  auburn-gresham  "
      ]
     },
     "execution_count": 25,
     "metadata": {},
     "output_type": "execute_result"
    }
   ],
   "source": [
    "df_places.head()"
   ]
  },
  {
   "cell_type": "code",
   "execution_count": 16,
   "metadata": {},
   "outputs": [],
   "source": [
    "AREAS_GEOJSON_URL = \"https://data.cityofchicago.org/api/geospatial/cauq-8yn6?method=export&format=GeoJSON\""
   ]
  },
  {
   "cell_type": "code",
   "execution_count": 26,
   "metadata": {},
   "outputs": [
    {
     "name": "stdout",
     "output_type": "stream",
     "text": [
      "77 community areas in the GeoJSON data.\n"
     ]
    }
   ],
   "source": [
    "r = requests.get(AREAS_GEOJSON_URL)\n",
    "geojson_areas = r.json()\n",
    "df_geojson = pd.DataFrame(geojson_areas[\"features\"])\n",
    "print(f\"{len(df_geojson)} community areas in the GeoJSON data.\")"
   ]
  },
  {
   "cell_type": "code",
   "execution_count": 21,
   "metadata": {},
   "outputs": [
    {
     "data": {
      "text/html": [
       "<div>\n",
       "<style scoped>\n",
       "    .dataframe tbody tr th:only-of-type {\n",
       "        vertical-align: middle;\n",
       "    }\n",
       "\n",
       "    .dataframe tbody tr th {\n",
       "        vertical-align: top;\n",
       "    }\n",
       "\n",
       "    .dataframe thead th {\n",
       "        text-align: right;\n",
       "    }\n",
       "</style>\n",
       "<table border=\"1\" class=\"dataframe\">\n",
       "  <thead>\n",
       "    <tr style=\"text-align: right;\">\n",
       "      <th></th>\n",
       "      <th>geometry</th>\n",
       "      <th>properties</th>\n",
       "      <th>type</th>\n",
       "    </tr>\n",
       "  </thead>\n",
       "  <tbody>\n",
       "    <tr>\n",
       "      <th>0</th>\n",
       "      <td>{'type': 'MultiPolygon', 'coordinates': [[[[-8...</td>\n",
       "      <td>{'community': 'DOUGLAS', 'area': '0', 'shape_a...</td>\n",
       "      <td>Feature</td>\n",
       "    </tr>\n",
       "    <tr>\n",
       "      <th>1</th>\n",
       "      <td>{'type': 'MultiPolygon', 'coordinates': [[[[-8...</td>\n",
       "      <td>{'community': 'OAKLAND', 'area': '0', 'shape_a...</td>\n",
       "      <td>Feature</td>\n",
       "    </tr>\n",
       "    <tr>\n",
       "      <th>2</th>\n",
       "      <td>{'type': 'MultiPolygon', 'coordinates': [[[[-8...</td>\n",
       "      <td>{'community': 'FULLER PARK', 'area': '0', 'sha...</td>\n",
       "      <td>Feature</td>\n",
       "    </tr>\n",
       "    <tr>\n",
       "      <th>3</th>\n",
       "      <td>{'type': 'MultiPolygon', 'coordinates': [[[[-8...</td>\n",
       "      <td>{'community': 'GRAND BOULEVARD', 'area': '0', ...</td>\n",
       "      <td>Feature</td>\n",
       "    </tr>\n",
       "    <tr>\n",
       "      <th>4</th>\n",
       "      <td>{'type': 'MultiPolygon', 'coordinates': [[[[-8...</td>\n",
       "      <td>{'community': 'KENWOOD', 'area': '0', 'shape_a...</td>\n",
       "      <td>Feature</td>\n",
       "    </tr>\n",
       "  </tbody>\n",
       "</table>\n",
       "</div>"
      ],
      "text/plain": [
       "                                            geometry  \\\n",
       "0  {'type': 'MultiPolygon', 'coordinates': [[[[-8...   \n",
       "1  {'type': 'MultiPolygon', 'coordinates': [[[[-8...   \n",
       "2  {'type': 'MultiPolygon', 'coordinates': [[[[-8...   \n",
       "3  {'type': 'MultiPolygon', 'coordinates': [[[[-8...   \n",
       "4  {'type': 'MultiPolygon', 'coordinates': [[[[-8...   \n",
       "\n",
       "                                          properties     type  \n",
       "0  {'community': 'DOUGLAS', 'area': '0', 'shape_a...  Feature  \n",
       "1  {'community': 'OAKLAND', 'area': '0', 'shape_a...  Feature  \n",
       "2  {'community': 'FULLER PARK', 'area': '0', 'sha...  Feature  \n",
       "3  {'community': 'GRAND BOULEVARD', 'area': '0', ...  Feature  \n",
       "4  {'community': 'KENWOOD', 'area': '0', 'shape_a...  Feature  "
      ]
     },
     "execution_count": 21,
     "metadata": {},
     "output_type": "execute_result"
    }
   ],
   "source": [
    "df_geojson.head()"
   ]
  },
  {
   "cell_type": "markdown",
   "metadata": {},
   "source": [
    "Thankfully, we can link this two datasets by the community area names. The output confirms that all 77 areas match up perfectly between the two datasets."
   ]
  },
  {
   "cell_type": "code",
   "execution_count": 59,
   "metadata": {},
   "outputs": [],
   "source": [
    "df_places[\"name_upper\"] = df_places[\"name\"].apply(lambda s: s.upper())\n",
    "df_geojson[\"name_upper\"] = df_geojson[\"properties\"].apply(lambda p: p[\"community\"])"
   ]
  },
  {
   "cell_type": "code",
   "execution_count": 60,
   "metadata": {},
   "outputs": [
    {
     "name": "stdout",
     "output_type": "stream",
     "text": [
      "77 community areas in the joined data, with 0 null cells.\n"
     ]
    }
   ],
   "source": [
    "df_left = df_places.set_index(\"name_upper\").drop(\"id\", axis=1)\n",
    "df_right = df_geojson.set_index(\"name_upper\")\n",
    "df_joined = df_left.join(df_right, rsuffix=\"_geojson\")\n",
    "n_null_cells = df_joined.isnull().sum(axis=0).sum(axis=0)\n",
    "print(f\"{len(df_joined)} community areas in the joined data, with {n_null_cells} null cells.\")"
   ]
  },
  {
   "cell_type": "code",
   "execution_count": 66,
   "metadata": {},
   "outputs": [],
   "source": [
    "df_areas = df_joined.drop([\n",
    "    \"geo_type\",\n",
    "    \"geometry_geojson\",\n",
    "    \"type\"\n",
    "], axis=1)\n",
    "df_areas[\"area_number\"] = df_areas[\"properties\"].apply(lambda p: p[\"area_numbe\"]) # not a typo haha\n",
    "df_areas[\"order\"] = df_areas[\"area_number\"].apply(lambda s: s.zfill(2))\n",
    "df_areas = df_areas.sort_values(by=\"order\", ascending=True)"
   ]
  },
  {
   "cell_type": "code",
   "execution_count": 67,
   "metadata": {},
   "outputs": [
    {
     "data": {
      "text/html": [
       "<div>\n",
       "<style scoped>\n",
       "    .dataframe tbody tr th:only-of-type {\n",
       "        vertical-align: middle;\n",
       "    }\n",
       "\n",
       "    .dataframe tbody tr th {\n",
       "        vertical-align: top;\n",
       "    }\n",
       "\n",
       "    .dataframe thead th {\n",
       "        text-align: right;\n",
       "    }\n",
       "</style>\n",
       "<table border=\"1\" class=\"dataframe\">\n",
       "  <thead>\n",
       "    <tr style=\"text-align: right;\">\n",
       "      <th></th>\n",
       "      <th>centroid</th>\n",
       "      <th>geometry</th>\n",
       "      <th>name</th>\n",
       "      <th>part</th>\n",
       "      <th>resource_cnt</th>\n",
       "      <th>slug</th>\n",
       "      <th>properties</th>\n",
       "      <th>area_number</th>\n",
       "      <th>order</th>\n",
       "    </tr>\n",
       "    <tr>\n",
       "      <th>name_upper</th>\n",
       "      <th></th>\n",
       "      <th></th>\n",
       "      <th></th>\n",
       "      <th></th>\n",
       "      <th></th>\n",
       "      <th></th>\n",
       "      <th></th>\n",
       "      <th></th>\n",
       "      <th></th>\n",
       "    </tr>\n",
       "  </thead>\n",
       "  <tbody>\n",
       "    <tr>\n",
       "      <th>ROGERS PARK</th>\n",
       "      <td>[-87.670167,42.009623]</td>\n",
       "      <td>{\"type\":\"MultiPolygon\",\"coordinates\":[[[[-87.6...</td>\n",
       "      <td>Rogers Park</td>\n",
       "      <td>Far North Side</td>\n",
       "      <td>0</td>\n",
       "      <td>rogers-park</td>\n",
       "      <td>{'community': 'ROGERS PARK', 'area': '0', 'sha...</td>\n",
       "      <td>1</td>\n",
       "      <td>01</td>\n",
       "    </tr>\n",
       "    <tr>\n",
       "      <th>WEST RIDGE</th>\n",
       "      <td>[-87.695013,42.001572]</td>\n",
       "      <td>{\"type\":\"MultiPolygon\",\"coordinates\":[[[[-87.6...</td>\n",
       "      <td>West Ridge</td>\n",
       "      <td>Far North Side</td>\n",
       "      <td>0</td>\n",
       "      <td>west-ridge</td>\n",
       "      <td>{'community': 'WEST RIDGE', 'area': '0', 'shap...</td>\n",
       "      <td>2</td>\n",
       "      <td>02</td>\n",
       "    </tr>\n",
       "    <tr>\n",
       "      <th>UPTOWN</th>\n",
       "      <td>[-87.655879,41.965812]</td>\n",
       "      <td>{\"type\":\"MultiPolygon\",\"coordinates\":[[[[-87.6...</td>\n",
       "      <td>Uptown</td>\n",
       "      <td>Far North Side</td>\n",
       "      <td>0</td>\n",
       "      <td>uptown</td>\n",
       "      <td>{'community': 'UPTOWN', 'area': '0', 'shape_ar...</td>\n",
       "      <td>3</td>\n",
       "      <td>03</td>\n",
       "    </tr>\n",
       "    <tr>\n",
       "      <th>LINCOLN SQUARE</th>\n",
       "      <td>[-87.687515,41.975172]</td>\n",
       "      <td>{\"type\":\"MultiPolygon\",\"coordinates\":[[[[-87.6...</td>\n",
       "      <td>Lincoln Square</td>\n",
       "      <td>Far North Side</td>\n",
       "      <td>0</td>\n",
       "      <td>lincoln-square</td>\n",
       "      <td>{'community': 'LINCOLN SQUARE', 'area': '0', '...</td>\n",
       "      <td>4</td>\n",
       "      <td>04</td>\n",
       "    </tr>\n",
       "    <tr>\n",
       "      <th>NORTH CENTER</th>\n",
       "      <td>[-87.683835,41.947792]</td>\n",
       "      <td>{\"type\":\"MultiPolygon\",\"coordinates\":[[[[-87.6...</td>\n",
       "      <td>North Center</td>\n",
       "      <td>North Side</td>\n",
       "      <td>0</td>\n",
       "      <td>north-center</td>\n",
       "      <td>{'community': 'NORTH CENTER', 'area': '0', 'sh...</td>\n",
       "      <td>5</td>\n",
       "      <td>05</td>\n",
       "    </tr>\n",
       "  </tbody>\n",
       "</table>\n",
       "</div>"
      ],
      "text/plain": [
       "                              centroid  \\\n",
       "name_upper                               \n",
       "ROGERS PARK     [-87.670167,42.009623]   \n",
       "WEST RIDGE      [-87.695013,42.001572]   \n",
       "UPTOWN          [-87.655879,41.965812]   \n",
       "LINCOLN SQUARE  [-87.687515,41.975172]   \n",
       "NORTH CENTER    [-87.683835,41.947792]   \n",
       "\n",
       "                                                         geometry  \\\n",
       "name_upper                                                          \n",
       "ROGERS PARK     {\"type\":\"MultiPolygon\",\"coordinates\":[[[[-87.6...   \n",
       "WEST RIDGE      {\"type\":\"MultiPolygon\",\"coordinates\":[[[[-87.6...   \n",
       "UPTOWN          {\"type\":\"MultiPolygon\",\"coordinates\":[[[[-87.6...   \n",
       "LINCOLN SQUARE  {\"type\":\"MultiPolygon\",\"coordinates\":[[[[-87.6...   \n",
       "NORTH CENTER    {\"type\":\"MultiPolygon\",\"coordinates\":[[[[-87.6...   \n",
       "\n",
       "                          name            part  resource_cnt            slug  \\\n",
       "name_upper                                                                     \n",
       "ROGERS PARK        Rogers Park  Far North Side             0     rogers-park   \n",
       "WEST RIDGE          West Ridge  Far North Side             0      west-ridge   \n",
       "UPTOWN                  Uptown  Far North Side             0          uptown   \n",
       "LINCOLN SQUARE  Lincoln Square  Far North Side             0  lincoln-square   \n",
       "NORTH CENTER      North Center      North Side             0    north-center   \n",
       "\n",
       "                                                       properties area_number  \\\n",
       "name_upper                                                                      \n",
       "ROGERS PARK     {'community': 'ROGERS PARK', 'area': '0', 'sha...           1   \n",
       "WEST RIDGE      {'community': 'WEST RIDGE', 'area': '0', 'shap...           2   \n",
       "UPTOWN          {'community': 'UPTOWN', 'area': '0', 'shape_ar...           3   \n",
       "LINCOLN SQUARE  {'community': 'LINCOLN SQUARE', 'area': '0', '...           4   \n",
       "NORTH CENTER    {'community': 'NORTH CENTER', 'area': '0', 'sh...           5   \n",
       "\n",
       "               order  \n",
       "name_upper            \n",
       "ROGERS PARK       01  \n",
       "WEST RIDGE        02  \n",
       "UPTOWN            03  \n",
       "LINCOLN SQUARE    04  \n",
       "NORTH CENTER      05  "
      ]
     },
     "execution_count": 67,
     "metadata": {},
     "output_type": "execute_result"
    }
   ],
   "source": [
    "df_areas.head()"
   ]
  },
  {
   "cell_type": "markdown",
   "metadata": {},
   "source": [
    "## Extracting Data For All Areas\n",
    "\n",
    "Now we can query the Chicago Health Atlas API for all 77 community areas by area slug (I could not find a method to request information for a list of community areas or all community areas at once) and create a table that can be joined to other tables by area number.\n",
    "\n",
    "We can use the handy `tqdm` library to track our progress. To avoid overwhelming the API, we put a small `sleep` after each request, which waits for a given number of seconds."
   ]
  },
  {
   "cell_type": "code",
   "execution_count": 75,
   "metadata": {},
   "outputs": [],
   "source": [
    "from tqdm import tqdm\n",
    "from time import sleep"
   ]
  },
  {
   "cell_type": "code",
   "execution_count": 76,
   "metadata": {},
   "outputs": [
    {
     "name": "stderr",
     "output_type": "stream",
     "text": [
      "100%|██████████| 77/77 [00:31<00:00,  2.45it/s]\n"
     ]
    }
   ],
   "source": [
    "rows = []\n",
    "community_areas = list(zip(df_areas[\"area_number\"].values, df_areas[\"slug\"].values))\n",
    "for number, slug in tqdm(community_areas):\n",
    "    r = requests.get(f\"{API}/place/demography/{slug}\")\n",
    "    data = r.json()\n",
    "    data[\"area_number\"] = number\n",
    "    data[\"area_slug\"] = slug\n",
    "    rows.append(data)\n",
    "    sleep(0.1)"
   ]
  },
  {
   "cell_type": "code",
   "execution_count": 77,
   "metadata": {},
   "outputs": [],
   "source": [
    "df_demo = pd.DataFrame(rows)"
   ]
  },
  {
   "cell_type": "code",
   "execution_count": 78,
   "metadata": {},
   "outputs": [
    {
     "data": {
      "text/html": [
       "<div>\n",
       "<style scoped>\n",
       "    .dataframe tbody tr th:only-of-type {\n",
       "        vertical-align: middle;\n",
       "    }\n",
       "\n",
       "    .dataframe tbody tr th {\n",
       "        vertical-align: top;\n",
       "    }\n",
       "\n",
       "    .dataframe thead th {\n",
       "        text-align: right;\n",
       "    }\n",
       "</style>\n",
       "<table border=\"1\" class=\"dataframe\">\n",
       "  <thead>\n",
       "    <tr style=\"text-align: right;\">\n",
       "      <th></th>\n",
       "      <th>area_number</th>\n",
       "      <th>area_slug</th>\n",
       "      <th>demographic_data</th>\n",
       "      <th>location</th>\n",
       "      <th>topics_data</th>\n",
       "      <th>total_population_data</th>\n",
       "    </tr>\n",
       "  </thead>\n",
       "  <tbody>\n",
       "    <tr>\n",
       "      <th>0</th>\n",
       "      <td>1</td>\n",
       "      <td>rogers-park</td>\n",
       "      <td>[{'age_group': '00-04', 'pop_2000': 5073.0, 'p...</td>\n",
       "      <td>rogers-park</td>\n",
       "      <td>[{'title': 'Below Poverty Level', 'data': {'id...</td>\n",
       "      <td>{'pop_2000': 63484, 'pop_2010': 54991}</td>\n",
       "    </tr>\n",
       "    <tr>\n",
       "      <th>1</th>\n",
       "      <td>2</td>\n",
       "      <td>west-ridge</td>\n",
       "      <td>[{'age_group': '00-04', 'pop_2000': 5448.0, 'p...</td>\n",
       "      <td>west-ridge</td>\n",
       "      <td>[{'title': 'Below Poverty Level', 'data': {'id...</td>\n",
       "      <td>{'pop_2000': 73199, 'pop_2010': 71942}</td>\n",
       "    </tr>\n",
       "    <tr>\n",
       "      <th>2</th>\n",
       "      <td>3</td>\n",
       "      <td>uptown</td>\n",
       "      <td>[{'age_group': '00-04', 'pop_2000': 3253.0, 'p...</td>\n",
       "      <td>uptown</td>\n",
       "      <td>[{'title': 'Below Poverty Level', 'data': {'id...</td>\n",
       "      <td>{'pop_2000': 63551, 'pop_2010': 56362}</td>\n",
       "    </tr>\n",
       "    <tr>\n",
       "      <th>3</th>\n",
       "      <td>4</td>\n",
       "      <td>lincoln-square</td>\n",
       "      <td>[{'age_group': '00-04', 'pop_2000': 2720.0, 'p...</td>\n",
       "      <td>lincoln-square</td>\n",
       "      <td>[{'title': 'Below Poverty Level', 'data': {'id...</td>\n",
       "      <td>{'pop_2000': 44574, 'pop_2010': 39493}</td>\n",
       "    </tr>\n",
       "    <tr>\n",
       "      <th>4</th>\n",
       "      <td>5</td>\n",
       "      <td>north-center</td>\n",
       "      <td>[{'age_group': '00-04', 'pop_2000': 1877.0, 'p...</td>\n",
       "      <td>north-center</td>\n",
       "      <td>[{'title': 'Below Poverty Level', 'data': {'id...</td>\n",
       "      <td>{'pop_2000': 31895, 'pop_2010': 31867}</td>\n",
       "    </tr>\n",
       "  </tbody>\n",
       "</table>\n",
       "</div>"
      ],
      "text/plain": [
       "  area_number       area_slug  \\\n",
       "0           1     rogers-park   \n",
       "1           2      west-ridge   \n",
       "2           3          uptown   \n",
       "3           4  lincoln-square   \n",
       "4           5    north-center   \n",
       "\n",
       "                                    demographic_data        location  \\\n",
       "0  [{'age_group': '00-04', 'pop_2000': 5073.0, 'p...     rogers-park   \n",
       "1  [{'age_group': '00-04', 'pop_2000': 5448.0, 'p...      west-ridge   \n",
       "2  [{'age_group': '00-04', 'pop_2000': 3253.0, 'p...          uptown   \n",
       "3  [{'age_group': '00-04', 'pop_2000': 2720.0, 'p...  lincoln-square   \n",
       "4  [{'age_group': '00-04', 'pop_2000': 1877.0, 'p...    north-center   \n",
       "\n",
       "                                         topics_data  \\\n",
       "0  [{'title': 'Below Poverty Level', 'data': {'id...   \n",
       "1  [{'title': 'Below Poverty Level', 'data': {'id...   \n",
       "2  [{'title': 'Below Poverty Level', 'data': {'id...   \n",
       "3  [{'title': 'Below Poverty Level', 'data': {'id...   \n",
       "4  [{'title': 'Below Poverty Level', 'data': {'id...   \n",
       "\n",
       "                    total_population_data  \n",
       "0  {'pop_2000': 63484, 'pop_2010': 54991}  \n",
       "1  {'pop_2000': 73199, 'pop_2010': 71942}  \n",
       "2  {'pop_2000': 63551, 'pop_2010': 56362}  \n",
       "3  {'pop_2000': 44574, 'pop_2010': 39493}  \n",
       "4  {'pop_2000': 31895, 'pop_2010': 31867}  "
      ]
     },
     "execution_count": 78,
     "metadata": {},
     "output_type": "execute_result"
    }
   ],
   "source": [
    "df_demo.head()"
   ]
  },
  {
   "cell_type": "code",
   "execution_count": 79,
   "metadata": {},
   "outputs": [
    {
     "data": {
      "text/plain": [
       "[{'age_group': '00-04', 'pop_2000': 5073.0, 'pop_2010': 3737.0},\n",
       " {'age_group': '05-14', 'pop_2000': 7846.0, 'pop_2010': 5161.0},\n",
       " {'age_group': '15-24', 'pop_2000': 11945.0, 'pop_2010': 9392.0},\n",
       " {'age_group': '25-34', 'pop_2000': 13569.0, 'pop_2010': 11433.0},\n",
       " {'age_group': '35-44', 'pop_2000': 10425.0, 'pop_2010': 8867.0},\n",
       " {'age_group': '45-54', 'pop_2000': 6830.0, 'pop_2010': 7211.0},\n",
       " {'age_group': '55-64', 'pop_2000': 3338.0, 'pop_2010': 5070.0},\n",
       " {'age_group': '65-74', 'pop_2000': 2218.0, 'pop_2010': 2368.0},\n",
       " {'age_group': '75-84', 'pop_2000': 1547.0, 'pop_2010': 1196.0},\n",
       " {'age_group': '85+', 'pop_2000': 693.0, 'pop_2010': 556.0}]"
      ]
     },
     "execution_count": 79,
     "metadata": {},
     "output_type": "execute_result"
    }
   ],
   "source": [
    "rows[0][\"demographic_data\"]"
   ]
  },
  {
   "cell_type": "code",
   "execution_count": 80,
   "metadata": {},
   "outputs": [
    {
     "data": {
      "text/plain": [
       "{'pop_2000': 63484, 'pop_2010': 54991}"
      ]
     },
     "execution_count": 80,
     "metadata": {},
     "output_type": "execute_result"
    }
   ],
   "source": [
    "rows[0][\"total_population_data\"]"
   ]
  },
  {
   "cell_type": "code",
   "execution_count": 81,
   "metadata": {},
   "outputs": [
    {
     "data": {
      "text/plain": [
       "[{'title': 'Below Poverty Level',\n",
       "  'data': {'id': None,\n",
       "   'name': 'Below Poverty Level',\n",
       "   'value': 22.7,\n",
       "   'description': 'Percent of households under the poverty level for the years 2007-2011.',\n",
       "   'stat_type': 'range, percent'}},\n",
       " {'title': 'Crowded Housing',\n",
       "  'data': {'id': None,\n",
       "   'name': 'Crowded Housing',\n",
       "   'value': 7.9,\n",
       "   'description': 'Percent of occupied crowded housing units for the years 2007-2011.',\n",
       "   'stat_type': 'range, percent'}},\n",
       " {'title': 'Dependency',\n",
       "  'data': {'id': None,\n",
       "   'name': 'Dependency',\n",
       "   'value': 28.8,\n",
       "   'description': 'Percent of persons aged less than 16 or more than 64 years for the years 2007-2011.',\n",
       "   'stat_type': 'range, percent'}},\n",
       " {'title': 'No High School Diploma',\n",
       "  'data': {'id': None,\n",
       "   'name': 'No High School Diploma',\n",
       "   'value': 18.1,\n",
       "   'description': 'Percent of persons aged 25 years and older with no high school diploma for the years 2007-2011.',\n",
       "   'stat_type': 'range, percent'}},\n",
       " {'title': 'Per capita income',\n",
       "  'data': {'id': None,\n",
       "   'name': 'Per capita income',\n",
       "   'value': 23714.0,\n",
       "   'description': '2011 inflation-adjusted dollars of annual income per person for the years 2007-2011',\n",
       "   'stat_type': 'range, money'}},\n",
       " {'title': 'Unemployment',\n",
       "  'data': {'id': None,\n",
       "   'name': 'Unemployment',\n",
       "   'value': 7.5,\n",
       "   'description': 'Percent of persons in labor force aged 16 years and older for the years 2007-2011',\n",
       "   'stat_type': 'range, percent'}}]"
      ]
     },
     "execution_count": 81,
     "metadata": {},
     "output_type": "execute_result"
    }
   ],
   "source": [
    "rows[0][\"topics_data\"]"
   ]
  },
  {
   "cell_type": "code",
   "execution_count": null,
   "metadata": {},
   "outputs": [],
   "source": []
  }
 ],
 "metadata": {
  "kernelspec": {
   "display_name": "Python 3",
   "language": "python",
   "name": "python3"
  },
  "language_info": {
   "codemirror_mode": {
    "name": "ipython",
    "version": 3
   },
   "file_extension": ".py",
   "mimetype": "text/x-python",
   "name": "python",
   "nbconvert_exporter": "python",
   "pygments_lexer": "ipython3",
   "version": "3.6.1"
  },
  "varInspector": {
   "cols": {
    "lenName": 16,
    "lenType": 16,
    "lenVar": 40
   },
   "kernels_config": {
    "python": {
     "delete_cmd_postfix": "",
     "delete_cmd_prefix": "del ",
     "library": "var_list.py",
     "varRefreshCmd": "print(var_dic_list())"
    },
    "r": {
     "delete_cmd_postfix": ") ",
     "delete_cmd_prefix": "rm(",
     "library": "var_list.r",
     "varRefreshCmd": "cat(var_dic_list()) "
    }
   },
   "types_to_exclude": [
    "module",
    "function",
    "builtin_function_or_method",
    "instance",
    "_Feature"
   ],
   "window_display": false
  }
 },
 "nbformat": 4,
 "nbformat_minor": 2
}
