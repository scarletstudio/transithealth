{
 "cells": [
  {
   "cell_type": "markdown",
   "metadata": {},
   "source": [
    "# Pooled Trips Performance Experiments"
   ]
  },
  {
   "cell_type": "code",
   "execution_count": 1,
   "metadata": {},
   "outputs": [],
   "source": [
    "import os\n",
    "os.chdir(\"../../\")"
   ]
  },
  {
   "cell_type": "markdown",
   "metadata": {},
   "source": [
    "## Performance Comparison\n",
    "\n",
    "### Load Fresh Database State"
   ]
  },
  {
   "cell_type": "code",
   "execution_count": 2,
   "metadata": {},
   "outputs": [
    {
     "name": "stdout",
     "output_type": "stream",
     "text": [
      "cat compressed/db-part-* > compressed.db.tgz\n",
      "tar -xf compressed.db.tgz\n",
      "rm compressed.db.tgz\n"
     ]
    }
   ],
   "source": [
    "%%bash\n",
    "cd pipeline\n",
    "make uncompressed\n",
    "cd .."
   ]
  },
  {
   "cell_type": "code",
   "execution_count": 3,
   "metadata": {},
   "outputs": [],
   "source": [
    "import pandas as pd\n",
    "import sqlite3\n",
    "from api.utils.database import rows_to_dicts"
   ]
  },
  {
   "cell_type": "code",
   "execution_count": 4,
   "metadata": {},
   "outputs": [],
   "source": [
    "con = sqlite3.connect(\"./pipeline/database.db\")"
   ]
  },
  {
   "cell_type": "code",
   "execution_count": 5,
   "metadata": {},
   "outputs": [],
   "source": [
    "def run_query(query):\n",
    "    cur = con.cursor()\n",
    "    rows = cur.execute(query).fetchall()\n",
    "    if cur.description is None:\n",
    "        return None\n",
    "    return pd.DataFrame(rows_to_dicts(cur, rows))"
   ]
  },
  {
   "cell_type": "code",
   "execution_count": 6,
   "metadata": {},
   "outputs": [
    {
     "data": {
      "text/html": [
       "<div>\n",
       "<style scoped>\n",
       "    .dataframe tbody tr th:only-of-type {\n",
       "        vertical-align: middle;\n",
       "    }\n",
       "\n",
       "    .dataframe tbody tr th {\n",
       "        vertical-align: top;\n",
       "    }\n",
       "\n",
       "    .dataframe thead th {\n",
       "        text-align: right;\n",
       "    }\n",
       "</style>\n",
       "<table border=\"1\" class=\"dataframe\">\n",
       "  <thead>\n",
       "    <tr style=\"text-align: right;\">\n",
       "      <th></th>\n",
       "      <th>name</th>\n",
       "    </tr>\n",
       "  </thead>\n",
       "  <tbody>\n",
       "    <tr>\n",
       "      <th>0</th>\n",
       "      <td>community_area</td>\n",
       "    </tr>\n",
       "    <tr>\n",
       "      <th>1</th>\n",
       "      <td>population</td>\n",
       "    </tr>\n",
       "    <tr>\n",
       "      <th>2</th>\n",
       "      <td>income</td>\n",
       "    </tr>\n",
       "    <tr>\n",
       "      <th>3</th>\n",
       "      <td>covid_spread</td>\n",
       "    </tr>\n",
       "    <tr>\n",
       "      <th>4</th>\n",
       "      <td>rideshare</td>\n",
       "    </tr>\n",
       "  </tbody>\n",
       "</table>\n",
       "</div>"
      ],
      "text/plain": [
       "             name\n",
       "0  community_area\n",
       "1      population\n",
       "2          income\n",
       "3    covid_spread\n",
       "4       rideshare"
      ]
     },
     "execution_count": 6,
     "metadata": {},
     "output_type": "execute_result"
    }
   ],
   "source": [
    "query_tables_views = \"\"\"\n",
    "SELECT name\n",
    "FROM sqlite_master\n",
    "WHERE type == \"table\"\n",
    "OR type == \"view\"\n",
    "AND name NOT LIKE \"sqlite_%\";\n",
    "\"\"\"\n",
    "run_query(query_tables_views)"
   ]
  },
  {
   "cell_type": "markdown",
   "metadata": {},
   "source": [
    "### Estimate Impact of Daily To Weekly Change"
   ]
  },
  {
   "cell_type": "code",
   "execution_count": 7,
   "metadata": {},
   "outputs": [
    {
     "data": {
      "text/html": [
       "<div>\n",
       "<style scoped>\n",
       "    .dataframe tbody tr th:only-of-type {\n",
       "        vertical-align: middle;\n",
       "    }\n",
       "\n",
       "    .dataframe tbody tr th {\n",
       "        vertical-align: top;\n",
       "    }\n",
       "\n",
       "    .dataframe thead th {\n",
       "        text-align: right;\n",
       "    }\n",
       "</style>\n",
       "<table border=\"1\" class=\"dataframe\">\n",
       "  <thead>\n",
       "    <tr style=\"text-align: right;\">\n",
       "      <th></th>\n",
       "      <th>daily_rows</th>\n",
       "      <th>weekly_rows</th>\n",
       "    </tr>\n",
       "  </thead>\n",
       "  <tbody>\n",
       "    <tr>\n",
       "      <th>0</th>\n",
       "      <td>3692997</td>\n",
       "      <td>523385</td>\n",
       "    </tr>\n",
       "  </tbody>\n",
       "</table>\n",
       "</div>"
      ],
      "text/plain": [
       "   daily_rows  weekly_rows\n",
       "0     3692997       523385"
      ]
     },
     "execution_count": 7,
     "metadata": {},
     "output_type": "execute_result"
    }
   ],
   "source": [
    "query_count_rideshare_rows = \"\"\"\n",
    "SELECT\n",
    "    count(1) as daily_rows,\n",
    "    sum(case when ymd == week then 1 else 0 end) as weekly_rows\n",
    "FROM rideshare\n",
    "\"\"\"\n",
    "run_query(query_count_rideshare_rows)"
   ]
  },
  {
   "cell_type": "markdown",
   "metadata": {},
   "source": [
    "### Prepare Methods For Comparison"
   ]
  },
  {
   "cell_type": "code",
   "execution_count": 8,
   "metadata": {},
   "outputs": [],
   "source": [
    "from api.metrics.community import CommunityMetrics\n",
    "from api.questions.pooled_trips import PooledTripMetrics\n",
    "\n",
    "\n",
    "def pooled_trips(con):\n",
    "    metric_community = CommunityMetrics(con)\n",
    "    metric_pooled = PooledTripMetrics(con)\n",
    "    \n",
    "    before_covid = (\"2019-02-01\", \"2020-03-02\")\n",
    "    since_covid = (\"2020-03-02\", \"2021-04-01\")\n",
    "    \n",
    "    metrics = metric_community.merge_metrics({\n",
    "        \"rideshare_pooled_trip_rate_2019\":\n",
    "            lambda: metric_community.rideshare_pooled_trip_rate(year=2019),\n",
    "        \"avg_cost_per_trip_cents_before\":\n",
    "            lambda: metric_pooled.avg_cost_per_trip_cents_by_area(*before_covid),\n",
    "        \"avg_trips_per_day_before\":\n",
    "            lambda: metric_pooled.avg_trips_per_day_by_area(*before_covid),\n",
    "        \"avg_cost_per_trip_cents_since\":\n",
    "            lambda: metric_pooled.avg_cost_per_trip_cents_by_area(*since_covid),\n",
    "        \"avg_trips_per_day_since\":\n",
    "            lambda: metric_pooled.avg_trips_per_day_by_area(*since_covid)\n",
    "    })\n",
    "    \n",
    "    return metrics"
   ]
  },
  {
   "cell_type": "code",
   "execution_count": 9,
   "metadata": {},
   "outputs": [],
   "source": [
    "def pooled_trips_two_metrics(con):\n",
    "    metric_community = CommunityMetrics(con)\n",
    "    metric_pooled = PooledTripMetrics(con)\n",
    "    \n",
    "    before_covid = (\"2019-02-01\", \"2020-03-02\")\n",
    "    since_covid = (\"2020-03-02\", \"2021-04-01\")\n",
    "    \n",
    "    metrics = metric_community.merge_metrics({\n",
    "        \"rideshare_pooled_trip_rate_2019\":\n",
    "            lambda: metric_community.rideshare_pooled_trip_rate(year=2019),\n",
    "        \"avg_cost_per_trip_cents_before\":\n",
    "            lambda: metric_pooled.avg_cost_per_trip_cents_by_area(*before_covid)\n",
    "    })\n",
    "    \n",
    "    return metrics"
   ]
  },
  {
   "cell_type": "code",
   "execution_count": 10,
   "metadata": {},
   "outputs": [],
   "source": [
    "class CombinedPooledTripMetrics:\n",
    "\n",
    "    def __init__(self, con):\n",
    "        self.con = con\n",
    "    \n",
    "    def all_metrics_by_period(self, before, since):\n",
    "        before_start, before_end = before\n",
    "        since_start, since_end = since\n",
    "        query_vars = (\n",
    "            # Check before date range for period\n",
    "            before_start, before_end,\n",
    "            # Check since date range for period\n",
    "            since_start, since_end,\n",
    "            # Use only before period to compute denominator\n",
    "            before_end, before_start\n",
    "        )\n",
    "        query = \"\"\"\n",
    "        SELECT\n",
    "            pickup_community_area as area_number,\n",
    "            CASE\n",
    "                WHEN ymd >= ? AND ymd < ? THEN \"before\"\n",
    "                WHEN ymd >= ? AND ymd < ? THEN \"since\"\n",
    "                ELSE \"other\"\n",
    "                END as period,\n",
    "            CAST(SUM(n_trips_pooled) as REAL)\n",
    "                / CAST(SUM(n_trips) as REAL) as pooled_trip_rate,\n",
    "            CAST(\n",
    "                SUM(n_trips * avg_cost_no_tip_cents)\n",
    "                / SUM(n_trips)\n",
    "                as INTEGER) as cost_per_trip,\n",
    "            CAST(\n",
    "                SUM(n_trips)\n",
    "                / (JULIANDAY(?) - JULIANDAY(?))\n",
    "                as INTEGER) as trips_per_day\n",
    "        FROM rideshare\n",
    "        GROUP BY area_number, period\n",
    "        HAVING period != \"other\"\n",
    "        \"\"\"\n",
    "        cur = self.con.cursor()\n",
    "        cur.execute(query, query_vars)\n",
    "        rows = rows_to_dicts(cur, cur.fetchall())\n",
    "        return rows\n",
    "    \n",
    "    def community_areas(self):\n",
    "        \"\"\"\n",
    "        Returns all of the community areas.\n",
    "        \"\"\"\n",
    "        query = \"\"\"\n",
    "        SELECT\n",
    "            area_number,\n",
    "            name,\n",
    "            part\n",
    "        FROM community_area\n",
    "        \"\"\"\n",
    "        cur = self.con.cursor()\n",
    "        cur.execute(query)\n",
    "        rows = rows_to_dicts(cur, cur.fetchall())\n",
    "        return rows\n",
    "    \n",
    "    def to_metrics(self, rows):\n",
    "        res = {}\n",
    "        for area in self.community_areas():\n",
    "            res[area[\"area_number\"]] = area\n",
    "        for row in rows:\n",
    "            area = row[\"area_number\"]\n",
    "            if row[\"period\"] == \"before\":\n",
    "                res[area][\"rideshare_pooled_trip_rate_before\"] = row[\"pooled_trip_rate\"]\n",
    "                res[area][\"avg_cost_per_trip_cents_before\"] = row[\"cost_per_trip\"]\n",
    "                res[area][\"avg_trips_per_day_before\"] = row[\"trips_per_day\"]\n",
    "            elif row[\"period\"] == \"since\":\n",
    "                res[area][\"avg_cost_per_trip_cents_since\"] = row[\"cost_per_trip\"]\n",
    "                res[area][\"avg_trips_per_day_since\"] = row[\"trips_per_day\"]\n",
    "        return list(res.values())\n",
    "\n",
    "\n",
    "def pooled_trips_combined(con):\n",
    "    metric_combined = CombinedPooledTripMetrics(con)\n",
    "    \n",
    "    before_covid = (\"2019-02-01\", \"2020-03-02\")\n",
    "    since_covid = (\"2020-03-02\", \"2021-04-01\")\n",
    "    \n",
    "    rows = metric_combined.all_metrics_by_period(\n",
    "        before_covid,\n",
    "        since_covid\n",
    "    )\n",
    "    metrics = metric_combined.to_metrics(rows)\n",
    "    \n",
    "    return metrics"
   ]
  },
  {
   "cell_type": "markdown",
   "metadata": {},
   "source": [
    "### Time Methods On Daily Rideshares"
   ]
  },
  {
   "cell_type": "code",
   "execution_count": 11,
   "metadata": {},
   "outputs": [
    {
     "name": "stdout",
     "output_type": "stream",
     "text": [
      "Got metrics for 77 records.\n",
      "CPU times: user 15.1 s, sys: 2.01 s, total: 17.2 s\n",
      "Wall time: 18.5 s\n"
     ]
    }
   ],
   "source": [
    "%%time\n",
    "m11 = pooled_trips(con)\n",
    "print(f\"Got metrics for {len(m11)} records.\")"
   ]
  },
  {
   "cell_type": "code",
   "execution_count": 12,
   "metadata": {},
   "outputs": [
    {
     "name": "stdout",
     "output_type": "stream",
     "text": [
      "Got metrics for 77 records.\n",
      "CPU times: user 7.15 s, sys: 758 ms, total: 7.91 s\n",
      "Wall time: 8.28 s\n"
     ]
    }
   ],
   "source": [
    "%%time\n",
    "m12 = pooled_trips_two_metrics(con)\n",
    "print(f\"Got metrics for {len(m12)} records.\")"
   ]
  },
  {
   "cell_type": "code",
   "execution_count": 13,
   "metadata": {},
   "outputs": [
    {
     "name": "stdout",
     "output_type": "stream",
     "text": [
      "Got metrics for 77 records.\n",
      "CPU times: user 9.76 s, sys: 2.2 s, total: 12 s\n",
      "Wall time: 12.8 s\n"
     ]
    }
   ],
   "source": [
    "%%time\n",
    "m13 = pooled_trips_combined(con)\n",
    "print(f\"Got metrics for {len(m13)} records.\")"
   ]
  },
  {
   "cell_type": "markdown",
   "metadata": {},
   "source": [
    "### Replace Daily Rideshare Table With Weekly Rideshare View"
   ]
  },
  {
   "cell_type": "code",
   "execution_count": 14,
   "metadata": {},
   "outputs": [],
   "source": [
    "run_query(\"ALTER TABLE rideshare RENAME TO rideshare_daily\")"
   ]
  },
  {
   "cell_type": "code",
   "execution_count": 15,
   "metadata": {},
   "outputs": [],
   "source": [
    "query_weekly_rideshare_view = \"\"\"\n",
    "CREATE VIEW rideshare AS\n",
    "SELECT *\n",
    "FROM rideshare_daily\n",
    "WHERE ymd == week\n",
    "\"\"\"\n",
    "run_query(query_weekly_rideshare_view)"
   ]
  },
  {
   "cell_type": "code",
   "execution_count": 16,
   "metadata": {},
   "outputs": [
    {
     "data": {
      "text/html": [
       "<div>\n",
       "<style scoped>\n",
       "    .dataframe tbody tr th:only-of-type {\n",
       "        vertical-align: middle;\n",
       "    }\n",
       "\n",
       "    .dataframe tbody tr th {\n",
       "        vertical-align: top;\n",
       "    }\n",
       "\n",
       "    .dataframe thead th {\n",
       "        text-align: right;\n",
       "    }\n",
       "</style>\n",
       "<table border=\"1\" class=\"dataframe\">\n",
       "  <thead>\n",
       "    <tr style=\"text-align: right;\">\n",
       "      <th></th>\n",
       "      <th>name</th>\n",
       "    </tr>\n",
       "  </thead>\n",
       "  <tbody>\n",
       "    <tr>\n",
       "      <th>0</th>\n",
       "      <td>community_area</td>\n",
       "    </tr>\n",
       "    <tr>\n",
       "      <th>1</th>\n",
       "      <td>population</td>\n",
       "    </tr>\n",
       "    <tr>\n",
       "      <th>2</th>\n",
       "      <td>income</td>\n",
       "    </tr>\n",
       "    <tr>\n",
       "      <th>3</th>\n",
       "      <td>covid_spread</td>\n",
       "    </tr>\n",
       "    <tr>\n",
       "      <th>4</th>\n",
       "      <td>rideshare_daily</td>\n",
       "    </tr>\n",
       "    <tr>\n",
       "      <th>5</th>\n",
       "      <td>rideshare</td>\n",
       "    </tr>\n",
       "  </tbody>\n",
       "</table>\n",
       "</div>"
      ],
      "text/plain": [
       "              name\n",
       "0   community_area\n",
       "1       population\n",
       "2           income\n",
       "3     covid_spread\n",
       "4  rideshare_daily\n",
       "5        rideshare"
      ]
     },
     "execution_count": 16,
     "metadata": {},
     "output_type": "execute_result"
    }
   ],
   "source": [
    "run_query(query_tables_views)"
   ]
  },
  {
   "cell_type": "markdown",
   "metadata": {},
   "source": [
    "### Time Methods On Weekly Rideshares"
   ]
  },
  {
   "cell_type": "code",
   "execution_count": 17,
   "metadata": {},
   "outputs": [
    {
     "name": "stdout",
     "output_type": "stream",
     "text": [
      "Got metrics for 77 records.\n",
      "CPU times: user 7.35 s, sys: 648 ms, total: 8 s\n",
      "Wall time: 8.78 s\n"
     ]
    }
   ],
   "source": [
    "%%time\n",
    "m21 = pooled_trips(con)\n",
    "print(f\"Got metrics for {len(m21)} records.\")"
   ]
  },
  {
   "cell_type": "code",
   "execution_count": 18,
   "metadata": {},
   "outputs": [
    {
     "name": "stdout",
     "output_type": "stream",
     "text": [
      "Got metrics for 77 records.\n",
      "CPU times: user 3.93 s, sys: 286 ms, total: 4.21 s\n",
      "Wall time: 4.48 s\n"
     ]
    }
   ],
   "source": [
    "%%time\n",
    "m22 = pooled_trips_two_metrics(con)\n",
    "print(f\"Got metrics for {len(m22)} records.\")"
   ]
  },
  {
   "cell_type": "code",
   "execution_count": 19,
   "metadata": {},
   "outputs": [
    {
     "name": "stdout",
     "output_type": "stream",
     "text": [
      "Got metrics for 77 records.\n",
      "CPU times: user 2.01 s, sys: 321 ms, total: 2.33 s\n",
      "Wall time: 2.52 s\n"
     ]
    }
   ],
   "source": [
    "%%time\n",
    "m23 = pooled_trips_combined(con)\n",
    "print(f\"Got metrics for {len(m23)} records.\")"
   ]
  },
  {
   "cell_type": "markdown",
   "metadata": {},
   "source": [
    "### Reset Database State"
   ]
  },
  {
   "cell_type": "code",
   "execution_count": 20,
   "metadata": {},
   "outputs": [
    {
     "name": "stdout",
     "output_type": "stream",
     "text": [
      "cat compressed/db-part-* > compressed.db.tgz\n",
      "tar -xf compressed.db.tgz\n",
      "rm compressed.db.tgz\n"
     ]
    }
   ],
   "source": [
    "%%bash\n",
    "cd pipeline\n",
    "make uncompressed\n",
    "cd .."
   ]
  },
  {
   "cell_type": "markdown",
   "metadata": {},
   "source": [
    "## Conclusion\n",
    "\n",
    "For the pooled trips question:\n",
    "\n",
    "- If we want to do this metric online:\n",
    "    - Reduce the rideshare table to weekly granularity instead of daily\n",
    "    - Combine metrics into one query rather than separate queries\n",
    "- Otherwise, we can compute this metric offline\n",
    "\n",
    "For other questions:\n",
    "\n",
    "- Other datasets should be much smaller than the rideshare dataset\n",
    "    - However, computing many metrics separately may still add up\n",
    "- Taxi dataset should be as big if not bigger than rideshare dataset\n",
    "    - Could also limit by year"
   ]
  },
  {
   "cell_type": "code",
   "execution_count": null,
   "metadata": {},
   "outputs": [],
   "source": []
  }
 ],
 "metadata": {
  "kernelspec": {
   "display_name": "Python 3",
   "language": "python",
   "name": "python3"
  },
  "language_info": {
   "codemirror_mode": {
    "name": "ipython",
    "version": 3
   },
   "file_extension": ".py",
   "mimetype": "text/x-python",
   "name": "python",
   "nbconvert_exporter": "python",
   "pygments_lexer": "ipython3",
   "version": "3.6.1"
  },
  "varInspector": {
   "cols": {
    "lenName": 16,
    "lenType": 16,
    "lenVar": 40
   },
   "kernels_config": {
    "python": {
     "delete_cmd_postfix": "",
     "delete_cmd_prefix": "del ",
     "library": "var_list.py",
     "varRefreshCmd": "print(var_dic_list())"
    },
    "r": {
     "delete_cmd_postfix": ") ",
     "delete_cmd_prefix": "rm(",
     "library": "var_list.r",
     "varRefreshCmd": "cat(var_dic_list()) "
    }
   },
   "types_to_exclude": [
    "module",
    "function",
    "builtin_function_or_method",
    "instance",
    "_Feature"
   ],
   "window_display": false
  }
 },
 "nbformat": 4,
 "nbformat_minor": 2
}
